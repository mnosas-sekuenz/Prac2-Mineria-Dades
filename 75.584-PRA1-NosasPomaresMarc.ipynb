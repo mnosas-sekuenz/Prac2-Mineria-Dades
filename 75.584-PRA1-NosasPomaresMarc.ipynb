{
 "cells": [
  {
   "cell_type": "markdown",
   "metadata": {},
   "source": [
    "<div>\n",
    "    <div class=\"row\" style=\"color: #FFFFFF;font-size: 15px;padding-bottom: 20px\">\n",
    "        <div class=\"col-md-7\">\n",
    "            <img src=\"http://www.uoc.edu/portal/_resources/common/imatges/marca_UOC/UOC_Masterbrand.jpg\" alt=\"Logo UOC\" class=\"img-responsive\" style=\"margin:20px 0px 0px\">\n",
    "        </div>\n",
    "        <div class=\"col-md-5\">\n",
    "            <h1 style=\"margin:15px 0px 0px;font-size: 40px;\">Pràctica 1: Cas d'estudi de mineria de dades</h1>\n",
    "            <div style=\"text-align:left;margin-top: 5px;\"></div>\n",
    "        </div>\n",
    "    </div>\n",
    "    <div class=\"row\" style=\"background: #00CCFF;color: #000000;font-size: 25px;padding: 5px 12px;\">\n",
    "        <div class=\"col-md-6\">\n",
    "            <div>Mineria de dades</div>\n",
    "        </div>\n",
    "        <div class=\"col-md-6\" style=\"font-size: 14px;\">\n",
    "            <div style=\"text-align:left;\">Autor: Marc Nosàs Pomares <br>\n",
    "        </div>\n",
    "    </div>\n",
    "</div>\n",
    "\n",
    "Aquest és el document amb el codi utilitzat per a la realització de la pràctica, el complementaré amb un informe explicant cada un els passos seguits."
   ]
  },
  {
   "cell_type": "markdown",
   "metadata": {},
   "source": [
    "### Importació de llibreries"
   ]
  },
  {
   "cell_type": "code",
   "execution_count": 12,
   "metadata": {},
   "outputs": [],
   "source": [
    "import pandas as pd\n",
    "from practica1 import *\n",
    "import seaborn as sns\n",
    "import matplotlib.pyplot as plt\n",
    "\n",
    "# Update display options for horizontal and vertical scrolling\n",
    "pd.options.display.width = 1000\n",
    "pd.options.display.max_rows = 1000  # Set max_rows to a large value to display all rows\n",
    "pd.options.display.max_columns = None"
   ]
  },
  {
   "cell_type": "markdown",
   "metadata": {},
   "source": [
    "#### 3. Presentació del dataset"
   ]
  },
  {
   "cell_type": "code",
   "execution_count": 13,
   "metadata": {},
   "outputs": [],
   "source": [
    "#######################################################################################################################\n",
    "\n",
    "# Aquest codi és l'inicial que he executat però que no funcionarà perque he eliminat el path per raons de privacitat\n",
    "# path = r\"Data-private/\"\n",
    "# names = ['2021.csv', \n",
    "#          '2022.csv', \n",
    "#          '2023.csv']\n",
    "\n",
    "# df = open_csvs(path, names, encoding='utf-8')\n",
    "# df = make_private(df)\n",
    "\n",
    "#######################################################################################################################"
   ]
  },
  {
   "cell_type": "markdown",
   "metadata": {},
   "source": [
    "#### 5. Anàlisis exploratori del Dataset \n",
    "##### 5.1 Verifiació de la qualitat de les dades"
   ]
  },
  {
   "cell_type": "code",
   "execution_count": 14,
   "metadata": {},
   "outputs": [],
   "source": [
    "# Ara obrim el fitxer de la data amb la que comencem a treballar\n",
    "df = pd.read_csv('Data/hotel_bookings.csv', encoding='utf-8', low_memory=False)\n",
    "df['Booking ID'] = df['Booking ID'].astype(str)\n",
    "df['T Booking ID'] = df['T Booking ID'].astype(str)"
   ]
  },
  {
   "cell_type": "code",
   "execution_count": 15,
   "metadata": {},
   "outputs": [],
   "source": [
    "# Abans de res, per a que sigui més fàcil treballar amb les dades, canviem el nom de les columnes\n",
    "# Ho posem tot en minúscules i substituim els espais per guions baixos\n",
    "df.columns = df.columns.str.lower().str.replace(' ', '_').str.replace('-', '_').str.replace('(', '').str.replace(')', '').str.replace('.', '')\n",
    "# A més treurem tots els caràcters especials que hi pugui haver en els noms de les columnes\n",
    "df.columns = df.columns.str.normalize('NFKD').str.encode('ascii', errors='ignore').str.decode('utf-8')"
   ]
  },
  {
   "cell_type": "code",
   "execution_count": 16,
   "metadata": {},
   "outputs": [
    {
     "data": {
      "text/html": [
       "<div>\n",
       "<style scoped>\n",
       "    .dataframe tbody tr th:only-of-type {\n",
       "        vertical-align: middle;\n",
       "    }\n",
       "\n",
       "    .dataframe tbody tr th {\n",
       "        vertical-align: top;\n",
       "    }\n",
       "\n",
       "    .dataframe thead th {\n",
       "        text-align: right;\n",
       "    }\n",
       "</style>\n",
       "<table border=\"1\" class=\"dataframe\">\n",
       "  <thead>\n",
       "    <tr style=\"text-align: right;\">\n",
       "      <th></th>\n",
       "      <th>motor</th>\n",
       "      <th>booking_id</th>\n",
       "      <th>t_booking_id</th>\n",
       "      <th>booking_date</th>\n",
       "      <th>check_in</th>\n",
       "      <th>check_out</th>\n",
       "      <th>unidades</th>\n",
       "      <th>linea_de_inventario</th>\n",
       "      <th>pax</th>\n",
       "      <th>noches</th>\n",
       "      <th>estado_reserva</th>\n",
       "      <th>importe_total</th>\n",
       "      <th>deposito</th>\n",
       "      <th>divisa</th>\n",
       "      <th>tipo_pago</th>\n",
       "      <th>estado_email_cliente</th>\n",
       "      <th>estado_email_hotel</th>\n",
       "      <th>noches_habitacion</th>\n",
       "      <th>ultima_mod</th>\n",
       "      <th>tipo_alojamiento</th>\n",
       "      <th>ocupacion</th>\n",
       "      <th>pension</th>\n",
       "      <th>antelacion_dias</th>\n",
       "      <th>extras</th>\n",
       "      <th>promociones</th>\n",
       "      <th>pais</th>\n",
       "      <th>motivo_cancelacion</th>\n",
       "      <th>fecha_cancelacion</th>\n",
       "      <th>tipo_organizacion</th>\n",
       "      <th>reserva_combinada</th>\n",
       "      <th>origin</th>\n",
       "      <th>mode</th>\n",
       "      <th>codigos_promocionales</th>\n",
       "      <th>fidelizada</th>\n",
       "      <th>no_show</th>\n",
       "    </tr>\n",
       "  </thead>\n",
       "  <tbody>\n",
       "    <tr>\n",
       "      <th>287487</th>\n",
       "      <td>hotel_126</td>\n",
       "      <td>1997.01</td>\n",
       "      <td>1997</td>\n",
       "      <td>2023-06-05T09:05:50</td>\n",
       "      <td>2023-06-05</td>\n",
       "      <td>2023-06-06</td>\n",
       "      <td>1</td>\n",
       "      <td>DeluxeSuiteViews_1a_HD_nr</td>\n",
       "      <td>1</td>\n",
       "      <td>1</td>\n",
       "      <td>OK</td>\n",
       "      <td>567,00</td>\n",
       "      <td>567,00</td>\n",
       "      <td>EUR</td>\n",
       "      <td>pay_no_pain_v2</td>\n",
       "      <td>SEND</td>\n",
       "      <td>OPEN</td>\n",
       "      <td>1</td>\n",
       "      <td>NaN</td>\n",
       "      <td>DeluxeSuiteViews</td>\n",
       "      <td>1a</td>\n",
       "      <td>HD</td>\n",
       "      <td>0</td>\n",
       "      <td>e_eCREDIT,e_eCHECKO</td>\n",
       "      <td>False</td>\n",
       "      <td>ES</td>\n",
       "      <td>NaN</td>\n",
       "      <td>NaN</td>\n",
       "      <td>NaN</td>\n",
       "      <td>False</td>\n",
       "      <td>NaN</td>\n",
       "      <td>NaN</td>\n",
       "      <td>False</td>\n",
       "      <td>False</td>\n",
       "      <td>NONE</td>\n",
       "    </tr>\n",
       "    <tr>\n",
       "      <th>94263</th>\n",
       "      <td>hotel_44</td>\n",
       "      <td>270376.01</td>\n",
       "      <td>270376</td>\n",
       "      <td>2022-09-30T11:23:56</td>\n",
       "      <td>2022-10-03</td>\n",
       "      <td>2022-10-04</td>\n",
       "      <td>1</td>\n",
       "      <td>petit_1a_SA_lm</td>\n",
       "      <td>1</td>\n",
       "      <td>1</td>\n",
       "      <td>OK</td>\n",
       "      <td>121,59</td>\n",
       "      <td>0,00</td>\n",
       "      <td>EUR</td>\n",
       "      <td>without_card</td>\n",
       "      <td>HARD_BOUNCE</td>\n",
       "      <td>SEND</td>\n",
       "      <td>1</td>\n",
       "      <td>NaN</td>\n",
       "      <td>petit</td>\n",
       "      <td>1a</td>\n",
       "      <td>SA</td>\n",
       "      <td>3</td>\n",
       "      <td>e_desayuno</td>\n",
       "      <td>True</td>\n",
       "      <td>FR</td>\n",
       "      <td>NaN</td>\n",
       "      <td>NaN</td>\n",
       "      <td>NaN</td>\n",
       "      <td>False</td>\n",
       "      <td>backoffice</td>\n",
       "      <td>NaN</td>\n",
       "      <td>False</td>\n",
       "      <td>False</td>\n",
       "      <td>NONE</td>\n",
       "    </tr>\n",
       "    <tr>\n",
       "      <th>55516</th>\n",
       "      <td>hotel_95</td>\n",
       "      <td>36419.01</td>\n",
       "      <td>36419</td>\n",
       "      <td>2022-12-01T10:44:54</td>\n",
       "      <td>2022-12-24</td>\n",
       "      <td>2022-12-26</td>\n",
       "      <td>1</td>\n",
       "      <td>ST_2a_SA_EB1</td>\n",
       "      <td>2</td>\n",
       "      <td>2</td>\n",
       "      <td>OK</td>\n",
       "      <td>144,14</td>\n",
       "      <td>0,00</td>\n",
       "      <td>EUR</td>\n",
       "      <td>pay_no_pain_v2</td>\n",
       "      <td>OPEN</td>\n",
       "      <td>SEND</td>\n",
       "      <td>2</td>\n",
       "      <td>NaN</td>\n",
       "      <td>ST</td>\n",
       "      <td>2a</td>\n",
       "      <td>SA</td>\n",
       "      <td>23</td>\n",
       "      <td>NaN</td>\n",
       "      <td>False</td>\n",
       "      <td>ES</td>\n",
       "      <td>NaN</td>\n",
       "      <td>NaN</td>\n",
       "      <td>NaN</td>\n",
       "      <td>False</td>\n",
       "      <td>NaN</td>\n",
       "      <td>NaN</td>\n",
       "      <td>False</td>\n",
       "      <td>False</td>\n",
       "      <td>NONE</td>\n",
       "    </tr>\n",
       "    <tr>\n",
       "      <th>170679</th>\n",
       "      <td>hotel_89</td>\n",
       "      <td>173779.01</td>\n",
       "      <td>173779</td>\n",
       "      <td>2022-03-16T10:48:10</td>\n",
       "      <td>2022-04-26</td>\n",
       "      <td>2022-04-27</td>\n",
       "      <td>1</td>\n",
       "      <td>doble_2a_HD_sf</td>\n",
       "      <td>2</td>\n",
       "      <td>1</td>\n",
       "      <td>OK</td>\n",
       "      <td>95,01</td>\n",
       "      <td>0,00</td>\n",
       "      <td>EUR</td>\n",
       "      <td>cc_vault</td>\n",
       "      <td>OPEN</td>\n",
       "      <td>SEND</td>\n",
       "      <td>1</td>\n",
       "      <td>NaN</td>\n",
       "      <td>doble</td>\n",
       "      <td>2a</td>\n",
       "      <td>HD</td>\n",
       "      <td>41</td>\n",
       "      <td>NaN</td>\n",
       "      <td>True</td>\n",
       "      <td>ES</td>\n",
       "      <td>NaN</td>\n",
       "      <td>NaN</td>\n",
       "      <td>NaN</td>\n",
       "      <td>False</td>\n",
       "      <td>NaN</td>\n",
       "      <td>NaN</td>\n",
       "      <td>False</td>\n",
       "      <td>True</td>\n",
       "      <td>NONE</td>\n",
       "    </tr>\n",
       "  </tbody>\n",
       "</table>\n",
       "</div>"
      ],
      "text/plain": [
       "            motor booking_id t_booking_id         booking_date    check_in   check_out  unidades        linea_de_inventario  pax  noches estado_reserva importe_total deposito divisa       tipo_pago estado_email_cliente estado_email_hotel  noches_habitacion ultima_mod  tipo_alojamiento ocupacion pension  antelacion_dias               extras  promociones pais motivo_cancelacion fecha_cancelacion tipo_organizacion  reserva_combinada      origin  mode  codigos_promocionales  fidelizada no_show\n",
       "287487  hotel_126    1997.01         1997  2023-06-05T09:05:50  2023-06-05  2023-06-06         1  DeluxeSuiteViews_1a_HD_nr    1       1             OK        567,00   567,00    EUR  pay_no_pain_v2                 SEND               OPEN                  1        NaN  DeluxeSuiteViews        1a      HD                0  e_eCREDIT,e_eCHECKO        False   ES                NaN               NaN               NaN              False         NaN   NaN                  False       False    NONE\n",
       "94263    hotel_44  270376.01       270376  2022-09-30T11:23:56  2022-10-03  2022-10-04         1             petit_1a_SA_lm    1       1             OK        121,59     0,00    EUR    without_card          HARD_BOUNCE               SEND                  1        NaN             petit        1a      SA                3           e_desayuno         True   FR                NaN               NaN               NaN              False  backoffice   NaN                  False       False    NONE\n",
       "55516    hotel_95   36419.01        36419  2022-12-01T10:44:54  2022-12-24  2022-12-26         1               ST_2a_SA_EB1    2       2             OK        144,14     0,00    EUR  pay_no_pain_v2                 OPEN               SEND                  2        NaN                ST        2a      SA               23                  NaN        False   ES                NaN               NaN               NaN              False         NaN   NaN                  False       False    NONE\n",
       "170679   hotel_89  173779.01       173779  2022-03-16T10:48:10  2022-04-26  2022-04-27         1             doble_2a_HD_sf    2       1             OK         95,01     0,00    EUR        cc_vault                 OPEN               SEND                  1        NaN             doble        2a      HD               41                  NaN         True   ES                NaN               NaN               NaN              False         NaN   NaN                  False        True    NONE"
      ]
     },
     "execution_count": 16,
     "metadata": {},
     "output_type": "execute_result"
    }
   ],
   "source": [
    "df.sample(4)"
   ]
  },
  {
   "cell_type": "markdown",
   "metadata": {},
   "source": [
    "Ara que ja tenim el dataset carregat, el primer que farem serà comprovar la qualitat de les dades. Per fer-ho, comprovarem el nombre de valors nuls que hi ha a cada columna. Així com els valors mínims i màxims, la mitjana i la desviació estàndard de les columnes numèriques."
   ]
  },
  {
   "cell_type": "code",
   "execution_count": 17,
   "metadata": {},
   "outputs": [
    {
     "name": "stdout",
     "output_type": "stream",
     "text": [
      "<class 'pandas.core.frame.DataFrame'>\n",
      "RangeIndex: 391579 entries, 0 to 391578\n",
      "Data columns (total 35 columns):\n",
      " #   Column                 Non-Null Count   Dtype  \n",
      "---  ------                 --------------   -----  \n",
      " 0   motor                  391579 non-null  object \n",
      " 1   booking_id             391579 non-null  object \n",
      " 2   t_booking_id           391579 non-null  object \n",
      " 3   booking_date           391579 non-null  object \n",
      " 4   check_in               391579 non-null  object \n",
      " 5   check_out              391579 non-null  object \n",
      " 6   unidades               391579 non-null  int64  \n",
      " 7   linea_de_inventario    391579 non-null  object \n",
      " 8   pax                    391579 non-null  int64  \n",
      " 9   noches                 391579 non-null  int64  \n",
      " 10  estado_reserva         391579 non-null  object \n",
      " 11  importe_total          391579 non-null  object \n",
      " 12  deposito               391579 non-null  object \n",
      " 13  divisa                 391579 non-null  object \n",
      " 14  tipo_pago              391579 non-null  object \n",
      " 15  estado_email_cliente   317657 non-null  object \n",
      " 16  estado_email_hotel     308382 non-null  object \n",
      " 17  noches_habitacion      391579 non-null  int64  \n",
      " 18  ultima_mod             16414 non-null   object \n",
      " 19  tipo_alojamiento       391579 non-null  object \n",
      " 20  ocupacion              391579 non-null  object \n",
      " 21  pension                391579 non-null  object \n",
      " 22  antelacion_dias        391579 non-null  int64  \n",
      " 23  extras                 54469 non-null   object \n",
      " 24  promociones            391579 non-null  bool   \n",
      " 25  pais                   390116 non-null  object \n",
      " 26  motivo_cancelacion     71855 non-null   object \n",
      " 27  fecha_cancelacion      71999 non-null   object \n",
      " 28  tipo_organizacion      6521 non-null    object \n",
      " 29  reserva_combinada      391579 non-null  bool   \n",
      " 30  origin                 94902 non-null   object \n",
      " 31  mode                   73 non-null      float64\n",
      " 32  codigos_promocionales  391579 non-null  bool   \n",
      " 33  fidelizada             391579 non-null  bool   \n",
      " 34  no_show                391568 non-null  object \n",
      "dtypes: bool(4), float64(1), int64(5), object(25)\n",
      "memory usage: 94.1+ MB\n"
     ]
    }
   ],
   "source": [
    "df.info()"
   ]
  },
  {
   "cell_type": "code",
   "execution_count": 18,
   "metadata": {},
   "outputs": [
    {
     "data": {
      "text/plain": [
       "divisa\n",
       "EUR    391576\n",
       "USD         3\n",
       "Name: count, dtype: int64"
      ]
     },
     "execution_count": 18,
     "metadata": {},
     "output_type": "execute_result"
    }
   ],
   "source": [
    "df.divisa.value_counts()\n"
   ]
  },
  {
   "cell_type": "code",
   "execution_count": 19,
   "metadata": {},
   "outputs": [],
   "source": [
    "# Fixe'm-nos que tant importe total com deposito són de tipus object però haurien de ser float\n",
    "# Això és degut a que el separador de decimals és la coma i no el punt, anem a canviar-ho\n",
    "df.importe_total = df.importe_total.str.replace(',', '.').astype(float)\n",
    "df.deposito = df.deposito.str.replace(',', '.').astype(float)"
   ]
  },
  {
   "cell_type": "code",
   "execution_count": 20,
   "metadata": {},
   "outputs": [],
   "source": [
    "# També veiem que hi ha alguns camps que contenen valors de tipus object però que haurien de ser dates i datetime\n",
    "# Els casos de datetime són els següents: booking_date, fecha_cancelacion, ultima_mod.\n",
    "# Els casos de date són els següents: check_in, check_out\n",
    "\n",
    "# Per això, primer convertim els objectes a dates i datetime,\n",
    "df.booking_date = pd.to_datetime(df.booking_date, format='ISO8601')\n",
    "df.check_in = pd.to_datetime(df.check_in, format=\"%Y-%m-%d\")\n",
    "df.check_out = pd.to_datetime(df.check_out, format=\"%Y-%m-%d\")\n",
    "\n",
    "# Ara les dades de fecha_cancelacion i ultima_mod, el problema és que hi ha valors nuls\n",
    "# i les hem de deixar com a NaT (Not a Time)\n",
    "df.fecha_cancelacion = pd.to_datetime(df.fecha_cancelacion, format='ISO8601', errors='coerce')\n",
    "df.ultima_mod = pd.to_datetime(df.ultima_mod, format='ISO8601', errors='coerce')"
   ]
  },
  {
   "cell_type": "markdown",
   "metadata": {},
   "source": [
    "Ara anem a estudiar les columnes d'una en una:\n",
    "\n",
    "\n",
    "Columna <code>motor</code>:"
   ]
  },
  {
   "cell_type": "code",
   "execution_count": 21,
   "metadata": {},
   "outputs": [
    {
     "name": "stdout",
     "output_type": "stream",
     "text": [
      "150\n",
      "2610.5266666666666\n"
     ]
    },
    {
     "data": {
      "image/png": "[encoded data removed]",
      "text/plain": [
       "<Figure size 640x480 with 1 Axes>"
      ]
     },
     "metadata": {},
     "output_type": "display_data"
    }
   ],
   "source": [
    "# Anem a analitzar els diferents valors de motor i en fem un plot\n",
    "print(len(df.motor.unique()))\n",
    "print(sum(df.motor.value_counts())/len(df.motor.unique()))\n",
    "# Preparem les dades per fer percentatges\n",
    "motor_counts = df['motor'].value_counts()\n",
    "percentages = (motor_counts / motor_counts.sum()) * 100\n",
    "# Plotejem els valors dels 10 motors i el percentatge que representen\n",
    "percentages.head(30).plot(kind='bar')\n",
    "plt.title('Reserves motor')\n",
    "plt.xlabel('motor_id')\n",
    "plt.ylabel('Percentatge de reserves respecte del total')\n",
    "# plt.savefig('IMG/Top_30_motors.jpg')\n",
    "plt.show()"
   ]
  },
  {
   "cell_type": "markdown",
   "metadata": {},
   "source": [
    "Columna <code>booking_date</code>:"
   ]
  },
  {
   "cell_type": "code",
   "execution_count": 22,
   "metadata": {},
   "outputs": [
    {
     "name": "stdout",
     "output_type": "stream",
     "text": [
      "count                           391579\n",
      "mean     2022-11-28 07:38:01.589697024\n",
      "min                2021-01-01 10:16:42\n",
      "25%                2022-07-03 18:32:06\n",
      "50%                2023-01-08 10:18:36\n",
      "75%                2023-06-02 11:38:38\n",
      "max                2023-10-31 23:50:54\n",
      "Name: booking_date, dtype: object\n"
     ]
    }
   ],
   "source": [
    "print(df.booking_date.describe())\n"
   ]
  },
  {
   "cell_type": "code",
   "execution_count": 23,
   "metadata": {},
   "outputs": [
    {
     "data": {
      "image/png": "[encoded data removed]",
      "text/plain": [
       "<Figure size 640x480 with 1 Axes>"
      ]
     },
     "metadata": {},
     "output_type": "display_data"
    },
    {
     "data": {
      "image/png": "[encoded data removed]",
      "text/plain": [
       "<Figure size 640x480 with 1 Axes>"
      ]
     },
     "metadata": {},
     "output_type": "display_data"
    },
    {
     "data": {
      "image/png": "[encoded data removed]",
      "text/plain": [
       "<Figure size 640x480 with 1 Axes>"
      ]
     },
     "metadata": {},
     "output_type": "display_data"
    }
   ],
   "source": [
    "# plorejem amb seaborn les dades de booking_date agregades per any+\n",
    "sns.set_theme(style=\"darkgrid\")\n",
    "sns.countplot(x=df.booking_date.dt.year, data=df)\n",
    "plt.title('Reserves per any')\n",
    "plt.xlabel('Any')\n",
    "plt.ylabel('Reserves')\n",
    "# plt.savefig('IMG/Reserves_per_any.jpg')\n",
    "plt.show()\n",
    "\n",
    "# Ara farem el mateix agregant per mes\n",
    "sns.countplot(x=df.booking_date.dt.month, data=df)\n",
    "plt.title('Reserves per mes')\n",
    "plt.xlabel('Mes')\n",
    "plt.ylabel('Reserves')\n",
    "# plt.savefig('IMG/Reserves_per_mes.jpg')\n",
    "\n",
    "plt.show()\n",
    "\n",
    "# Finalment fem el mateix agregant per dia de la setmana\n",
    "sns.countplot(x=df.booking_date.dt.dayofweek, data=df)\n",
    "plt.title('Reserves per dia de la setmana')\n",
    "plt.xlabel('Dia de la setmana')\n",
    "plt.ylabel('Reserves')\n",
    "# Fem que en l'eix x apareguin els dies de la setmana\n",
    "plt.xticks([0, 1, 2, 3, 4, 5, 6], ['Diumenge','Dilluns', 'Dimarts', 'Dimecres', 'Dijous', 'Divendres', 'Dissabte'])\n",
    "# plt.savefig('IMG/Reserves_per_dow.jpg')\n",
    "plt.show()\n"
   ]
  },
  {
   "cell_type": "markdown",
   "metadata": {},
   "source": [
    "Estudi dels camps <code>check_in</code> & <code>check_out</code>:"
   ]
  },
  {
   "cell_type": "code",
   "execution_count": 24,
   "metadata": {},
   "outputs": [
    {
     "name": "stdout",
     "output_type": "stream",
     "text": [
      "count                           391579\n",
      "mean     2023-01-11 04:58:33.957592320\n",
      "min                2021-01-01 00:00:00\n",
      "25%                2022-08-07 00:00:00\n",
      "50%                2023-02-19 00:00:00\n",
      "75%                2023-07-23 00:00:00\n",
      "max                2024-12-27 00:00:00\n",
      "Name: check_in, dtype: object\n",
      "count                           391579\n",
      "mean     2023-01-13 16:06:37.676075520\n",
      "min                2021-01-02 00:00:00\n",
      "25%                2022-08-10 00:00:00\n",
      "50%                2023-02-21 00:00:00\n",
      "75%                2023-07-26 00:00:00\n",
      "max                2024-12-31 00:00:00\n",
      "Name: check_out, dtype: object\n"
     ]
    }
   ],
   "source": [
    "print(df.check_in.describe())\n",
    "print(df.check_out.describe())"
   ]
  },
  {
   "cell_type": "code",
   "execution_count": 25,
   "metadata": {},
   "outputs": [
    {
     "data": {
      "image/png": "[encoded data removed]",
      "text/plain": [
       "<Figure size 640x480 with 1 Axes>"
      ]
     },
     "metadata": {},
     "output_type": "display_data"
    },
    {
     "ename": "FileNotFoundError",
     "evalue": "[Errno 2] No such file or directory: 'IMG/ci_per_mes.jpg'",
     "output_type": "error",
     "traceback": [
      "\u001b[1;31m---------------------------------------------------------------------------\u001b[0m",
      "\u001b[1;31mFileNotFoundError\u001b[0m                         Traceback (most recent call last)",
      "Cell \u001b[1;32mIn[25], line 16\u001b[0m\n\u001b[0;32m     14\u001b[0m plt\u001b[38;5;241m.\u001b[39mxlabel(\u001b[38;5;124m'\u001b[39m\u001b[38;5;124mMes\u001b[39m\u001b[38;5;124m'\u001b[39m)\n\u001b[0;32m     15\u001b[0m plt\u001b[38;5;241m.\u001b[39mylabel(\u001b[38;5;124m'\u001b[39m\u001b[38;5;124mCheck-in\u001b[39m\u001b[38;5;124m'\u001b[39m)\n\u001b[1;32m---> 16\u001b[0m \u001b[43mplt\u001b[49m\u001b[38;5;241;43m.\u001b[39;49m\u001b[43msavefig\u001b[49m\u001b[43m(\u001b[49m\u001b[38;5;124;43m'\u001b[39;49m\u001b[38;5;124;43mIMG/ci_per_mes.jpg\u001b[39;49m\u001b[38;5;124;43m'\u001b[39;49m\u001b[43m)\u001b[49m\n\u001b[0;32m     18\u001b[0m plt\u001b[38;5;241m.\u001b[39mshow()\n\u001b[0;32m     20\u001b[0m \u001b[38;5;66;03m# Finalment fem el mateix agregant per dia de la setmana\u001b[39;00m\n",
      "File \u001b[1;32mc:\\Users\\MarcNosas\\.conda\\envs\\UOC\\Lib\\site-packages\\matplotlib\\pyplot.py:1023\u001b[0m, in \u001b[0;36msavefig\u001b[1;34m(*args, **kwargs)\u001b[0m\n\u001b[0;32m   1020\u001b[0m \u001b[38;5;129m@_copy_docstring_and_deprecators\u001b[39m(Figure\u001b[38;5;241m.\u001b[39msavefig)\n\u001b[0;32m   1021\u001b[0m \u001b[38;5;28;01mdef\u001b[39;00m \u001b[38;5;21msavefig\u001b[39m(\u001b[38;5;241m*\u001b[39margs, \u001b[38;5;241m*\u001b[39m\u001b[38;5;241m*\u001b[39mkwargs):\n\u001b[0;32m   1022\u001b[0m     fig \u001b[38;5;241m=\u001b[39m gcf()\n\u001b[1;32m-> 1023\u001b[0m     res \u001b[38;5;241m=\u001b[39m \u001b[43mfig\u001b[49m\u001b[38;5;241;43m.\u001b[39;49m\u001b[43msavefig\u001b[49m\u001b[43m(\u001b[49m\u001b[38;5;241;43m*\u001b[39;49m\u001b[43margs\u001b[49m\u001b[43m,\u001b[49m\u001b[43m \u001b[49m\u001b[38;5;241;43m*\u001b[39;49m\u001b[38;5;241;43m*\u001b[39;49m\u001b[43mkwargs\u001b[49m\u001b[43m)\u001b[49m\n\u001b[0;32m   1024\u001b[0m     fig\u001b[38;5;241m.\u001b[39mcanvas\u001b[38;5;241m.\u001b[39mdraw_idle()  \u001b[38;5;66;03m# Need this if 'transparent=True', to reset colors.\u001b[39;00m\n\u001b[0;32m   1025\u001b[0m     \u001b[38;5;28;01mreturn\u001b[39;00m res\n",
      "File \u001b[1;32mc:\\Users\\MarcNosas\\.conda\\envs\\UOC\\Lib\\site-packages\\matplotlib\\figure.py:3343\u001b[0m, in \u001b[0;36mFigure.savefig\u001b[1;34m(self, fname, transparent, **kwargs)\u001b[0m\n\u001b[0;32m   3339\u001b[0m     \u001b[38;5;28;01mfor\u001b[39;00m ax \u001b[38;5;129;01min\u001b[39;00m \u001b[38;5;28mself\u001b[39m\u001b[38;5;241m.\u001b[39maxes:\n\u001b[0;32m   3340\u001b[0m         stack\u001b[38;5;241m.\u001b[39menter_context(\n\u001b[0;32m   3341\u001b[0m             ax\u001b[38;5;241m.\u001b[39mpatch\u001b[38;5;241m.\u001b[39m_cm_set(facecolor\u001b[38;5;241m=\u001b[39m\u001b[38;5;124m'\u001b[39m\u001b[38;5;124mnone\u001b[39m\u001b[38;5;124m'\u001b[39m, edgecolor\u001b[38;5;241m=\u001b[39m\u001b[38;5;124m'\u001b[39m\u001b[38;5;124mnone\u001b[39m\u001b[38;5;124m'\u001b[39m))\n\u001b[1;32m-> 3343\u001b[0m \u001b[38;5;28;43mself\u001b[39;49m\u001b[38;5;241;43m.\u001b[39;49m\u001b[43mcanvas\u001b[49m\u001b[38;5;241;43m.\u001b[39;49m\u001b[43mprint_figure\u001b[49m\u001b[43m(\u001b[49m\u001b[43mfname\u001b[49m\u001b[43m,\u001b[49m\u001b[43m \u001b[49m\u001b[38;5;241;43m*\u001b[39;49m\u001b[38;5;241;43m*\u001b[39;49m\u001b[43mkwargs\u001b[49m\u001b[43m)\u001b[49m\n",
      "File \u001b[1;32mc:\\Users\\MarcNosas\\.conda\\envs\\UOC\\Lib\\site-packages\\matplotlib\\backend_bases.py:2366\u001b[0m, in \u001b[0;36mFigureCanvasBase.print_figure\u001b[1;34m(self, filename, dpi, facecolor, edgecolor, orientation, format, bbox_inches, pad_inches, bbox_extra_artists, backend, **kwargs)\u001b[0m\n\u001b[0;32m   2362\u001b[0m \u001b[38;5;28;01mtry\u001b[39;00m:\n\u001b[0;32m   2363\u001b[0m     \u001b[38;5;66;03m# _get_renderer may change the figure dpi (as vector formats\u001b[39;00m\n\u001b[0;32m   2364\u001b[0m     \u001b[38;5;66;03m# force the figure dpi to 72), so we need to set it again here.\u001b[39;00m\n\u001b[0;32m   2365\u001b[0m     \u001b[38;5;28;01mwith\u001b[39;00m cbook\u001b[38;5;241m.\u001b[39m_setattr_cm(\u001b[38;5;28mself\u001b[39m\u001b[38;5;241m.\u001b[39mfigure, dpi\u001b[38;5;241m=\u001b[39mdpi):\n\u001b[1;32m-> 2366\u001b[0m         result \u001b[38;5;241m=\u001b[39m \u001b[43mprint_method\u001b[49m\u001b[43m(\u001b[49m\n\u001b[0;32m   2367\u001b[0m \u001b[43m            \u001b[49m\u001b[43mfilename\u001b[49m\u001b[43m,\u001b[49m\n\u001b[0;32m   2368\u001b[0m \u001b[43m            \u001b[49m\u001b[43mfacecolor\u001b[49m\u001b[38;5;241;43m=\u001b[39;49m\u001b[43mfacecolor\u001b[49m\u001b[43m,\u001b[49m\n\u001b[0;32m   2369\u001b[0m \u001b[43m            \u001b[49m\u001b[43medgecolor\u001b[49m\u001b[38;5;241;43m=\u001b[39;49m\u001b[43medgecolor\u001b[49m\u001b[43m,\u001b[49m\n\u001b[0;32m   2370\u001b[0m \u001b[43m            \u001b[49m\u001b[43morientation\u001b[49m\u001b[38;5;241;43m=\u001b[39;49m\u001b[43morientation\u001b[49m\u001b[43m,\u001b[49m\n\u001b[0;32m   2371\u001b[0m \u001b[43m            \u001b[49m\u001b[43mbbox_inches_restore\u001b[49m\u001b[38;5;241;43m=\u001b[39;49m\u001b[43m_bbox_inches_restore\u001b[49m\u001b[43m,\u001b[49m\n\u001b[0;32m   2372\u001b[0m \u001b[43m            \u001b[49m\u001b[38;5;241;43m*\u001b[39;49m\u001b[38;5;241;43m*\u001b[39;49m\u001b[43mkwargs\u001b[49m\u001b[43m)\u001b[49m\n\u001b[0;32m   2373\u001b[0m \u001b[38;5;28;01mfinally\u001b[39;00m:\n\u001b[0;32m   2374\u001b[0m     \u001b[38;5;28;01mif\u001b[39;00m bbox_inches \u001b[38;5;129;01mand\u001b[39;00m restore_bbox:\n",
      "File \u001b[1;32mc:\\Users\\MarcNosas\\.conda\\envs\\UOC\\Lib\\site-packages\\matplotlib\\backend_bases.py:2232\u001b[0m, in \u001b[0;36mFigureCanvasBase._switch_canvas_and_return_print_method.<locals>.<lambda>\u001b[1;34m(*args, **kwargs)\u001b[0m\n\u001b[0;32m   2228\u001b[0m     optional_kws \u001b[38;5;241m=\u001b[39m {  \u001b[38;5;66;03m# Passed by print_figure for other renderers.\u001b[39;00m\n\u001b[0;32m   2229\u001b[0m         \u001b[38;5;124m\"\u001b[39m\u001b[38;5;124mdpi\u001b[39m\u001b[38;5;124m\"\u001b[39m, \u001b[38;5;124m\"\u001b[39m\u001b[38;5;124mfacecolor\u001b[39m\u001b[38;5;124m\"\u001b[39m, \u001b[38;5;124m\"\u001b[39m\u001b[38;5;124medgecolor\u001b[39m\u001b[38;5;124m\"\u001b[39m, \u001b[38;5;124m\"\u001b[39m\u001b[38;5;124morientation\u001b[39m\u001b[38;5;124m\"\u001b[39m,\n\u001b[0;32m   2230\u001b[0m         \u001b[38;5;124m\"\u001b[39m\u001b[38;5;124mbbox_inches_restore\u001b[39m\u001b[38;5;124m\"\u001b[39m}\n\u001b[0;32m   2231\u001b[0m     skip \u001b[38;5;241m=\u001b[39m optional_kws \u001b[38;5;241m-\u001b[39m {\u001b[38;5;241m*\u001b[39minspect\u001b[38;5;241m.\u001b[39msignature(meth)\u001b[38;5;241m.\u001b[39mparameters}\n\u001b[1;32m-> 2232\u001b[0m     print_method \u001b[38;5;241m=\u001b[39m functools\u001b[38;5;241m.\u001b[39mwraps(meth)(\u001b[38;5;28;01mlambda\u001b[39;00m \u001b[38;5;241m*\u001b[39margs, \u001b[38;5;241m*\u001b[39m\u001b[38;5;241m*\u001b[39mkwargs: \u001b[43mmeth\u001b[49m\u001b[43m(\u001b[49m\n\u001b[0;32m   2233\u001b[0m \u001b[43m        \u001b[49m\u001b[38;5;241;43m*\u001b[39;49m\u001b[43margs\u001b[49m\u001b[43m,\u001b[49m\u001b[43m \u001b[49m\u001b[38;5;241;43m*\u001b[39;49m\u001b[38;5;241;43m*\u001b[39;49m\u001b[43m{\u001b[49m\u001b[43mk\u001b[49m\u001b[43m:\u001b[49m\u001b[43m \u001b[49m\u001b[43mv\u001b[49m\u001b[43m \u001b[49m\u001b[38;5;28;43;01mfor\u001b[39;49;00m\u001b[43m \u001b[49m\u001b[43mk\u001b[49m\u001b[43m,\u001b[49m\u001b[43m \u001b[49m\u001b[43mv\u001b[49m\u001b[43m \u001b[49m\u001b[38;5;129;43;01min\u001b[39;49;00m\u001b[43m \u001b[49m\u001b[43mkwargs\u001b[49m\u001b[38;5;241;43m.\u001b[39;49m\u001b[43mitems\u001b[49m\u001b[43m(\u001b[49m\u001b[43m)\u001b[49m\u001b[43m \u001b[49m\u001b[38;5;28;43;01mif\u001b[39;49;00m\u001b[43m \u001b[49m\u001b[43mk\u001b[49m\u001b[43m \u001b[49m\u001b[38;5;129;43;01mnot\u001b[39;49;00m\u001b[43m \u001b[49m\u001b[38;5;129;43;01min\u001b[39;49;00m\u001b[43m \u001b[49m\u001b[43mskip\u001b[49m\u001b[43m}\u001b[49m\u001b[43m)\u001b[49m)\n\u001b[0;32m   2234\u001b[0m \u001b[38;5;28;01melse\u001b[39;00m:  \u001b[38;5;66;03m# Let third-parties do as they see fit.\u001b[39;00m\n\u001b[0;32m   2235\u001b[0m     print_method \u001b[38;5;241m=\u001b[39m meth\n",
      "File \u001b[1;32mc:\\Users\\MarcNosas\\.conda\\envs\\UOC\\Lib\\site-packages\\matplotlib\\backends\\backend_agg.py:526\u001b[0m, in \u001b[0;36mFigureCanvasAgg.print_jpg\u001b[1;34m(self, filename_or_obj, pil_kwargs)\u001b[0m\n\u001b[0;32m    521\u001b[0m \u001b[38;5;28;01mdef\u001b[39;00m \u001b[38;5;21mprint_jpg\u001b[39m(\u001b[38;5;28mself\u001b[39m, filename_or_obj, \u001b[38;5;241m*\u001b[39m, pil_kwargs\u001b[38;5;241m=\u001b[39m\u001b[38;5;28;01mNone\u001b[39;00m):\n\u001b[0;32m    522\u001b[0m     \u001b[38;5;66;03m# savefig() has already applied savefig.facecolor; we now set it to\u001b[39;00m\n\u001b[0;32m    523\u001b[0m     \u001b[38;5;66;03m# white to make imsave() blend semi-transparent figures against an\u001b[39;00m\n\u001b[0;32m    524\u001b[0m     \u001b[38;5;66;03m# assumed white background.\u001b[39;00m\n\u001b[0;32m    525\u001b[0m     \u001b[38;5;28;01mwith\u001b[39;00m mpl\u001b[38;5;241m.\u001b[39mrc_context({\u001b[38;5;124m\"\u001b[39m\u001b[38;5;124msavefig.facecolor\u001b[39m\u001b[38;5;124m\"\u001b[39m: \u001b[38;5;124m\"\u001b[39m\u001b[38;5;124mwhite\u001b[39m\u001b[38;5;124m\"\u001b[39m}):\n\u001b[1;32m--> 526\u001b[0m         \u001b[38;5;28;43mself\u001b[39;49m\u001b[38;5;241;43m.\u001b[39;49m\u001b[43m_print_pil\u001b[49m\u001b[43m(\u001b[49m\u001b[43mfilename_or_obj\u001b[49m\u001b[43m,\u001b[49m\u001b[43m \u001b[49m\u001b[38;5;124;43m\"\u001b[39;49m\u001b[38;5;124;43mjpeg\u001b[39;49m\u001b[38;5;124;43m\"\u001b[39;49m\u001b[43m,\u001b[49m\u001b[43m \u001b[49m\u001b[43mpil_kwargs\u001b[49m\u001b[43m)\u001b[49m\n",
      "File \u001b[1;32mc:\\Users\\MarcNosas\\.conda\\envs\\UOC\\Lib\\site-packages\\matplotlib\\backends\\backend_agg.py:458\u001b[0m, in \u001b[0;36mFigureCanvasAgg._print_pil\u001b[1;34m(self, filename_or_obj, fmt, pil_kwargs, metadata)\u001b[0m\n\u001b[0;32m    453\u001b[0m \u001b[38;5;250m\u001b[39m\u001b[38;5;124;03m\"\"\"\u001b[39;00m\n\u001b[0;32m    454\u001b[0m \u001b[38;5;124;03mDraw the canvas, then save it using `.image.imsave` (to which\u001b[39;00m\n\u001b[0;32m    455\u001b[0m \u001b[38;5;124;03m*pil_kwargs* and *metadata* are forwarded).\u001b[39;00m\n\u001b[0;32m    456\u001b[0m \u001b[38;5;124;03m\"\"\"\u001b[39;00m\n\u001b[0;32m    457\u001b[0m FigureCanvasAgg\u001b[38;5;241m.\u001b[39mdraw(\u001b[38;5;28mself\u001b[39m)\n\u001b[1;32m--> 458\u001b[0m \u001b[43mmpl\u001b[49m\u001b[38;5;241;43m.\u001b[39;49m\u001b[43mimage\u001b[49m\u001b[38;5;241;43m.\u001b[39;49m\u001b[43mimsave\u001b[49m\u001b[43m(\u001b[49m\n\u001b[0;32m    459\u001b[0m \u001b[43m    \u001b[49m\u001b[43mfilename_or_obj\u001b[49m\u001b[43m,\u001b[49m\u001b[43m \u001b[49m\u001b[38;5;28;43mself\u001b[39;49m\u001b[38;5;241;43m.\u001b[39;49m\u001b[43mbuffer_rgba\u001b[49m\u001b[43m(\u001b[49m\u001b[43m)\u001b[49m\u001b[43m,\u001b[49m\u001b[43m \u001b[49m\u001b[38;5;28;43mformat\u001b[39;49m\u001b[38;5;241;43m=\u001b[39;49m\u001b[43mfmt\u001b[49m\u001b[43m,\u001b[49m\u001b[43m \u001b[49m\u001b[43morigin\u001b[49m\u001b[38;5;241;43m=\u001b[39;49m\u001b[38;5;124;43m\"\u001b[39;49m\u001b[38;5;124;43mupper\u001b[39;49m\u001b[38;5;124;43m\"\u001b[39;49m\u001b[43m,\u001b[49m\n\u001b[0;32m    460\u001b[0m \u001b[43m    \u001b[49m\u001b[43mdpi\u001b[49m\u001b[38;5;241;43m=\u001b[39;49m\u001b[38;5;28;43mself\u001b[39;49m\u001b[38;5;241;43m.\u001b[39;49m\u001b[43mfigure\u001b[49m\u001b[38;5;241;43m.\u001b[39;49m\u001b[43mdpi\u001b[49m\u001b[43m,\u001b[49m\u001b[43m \u001b[49m\u001b[43mmetadata\u001b[49m\u001b[38;5;241;43m=\u001b[39;49m\u001b[43mmetadata\u001b[49m\u001b[43m,\u001b[49m\u001b[43m \u001b[49m\u001b[43mpil_kwargs\u001b[49m\u001b[38;5;241;43m=\u001b[39;49m\u001b[43mpil_kwargs\u001b[49m\u001b[43m)\u001b[49m\n",
      "File \u001b[1;32mc:\\Users\\MarcNosas\\.conda\\envs\\UOC\\Lib\\site-packages\\matplotlib\\image.py:1689\u001b[0m, in \u001b[0;36mimsave\u001b[1;34m(fname, arr, vmin, vmax, cmap, format, origin, dpi, metadata, pil_kwargs)\u001b[0m\n\u001b[0;32m   1687\u001b[0m pil_kwargs\u001b[38;5;241m.\u001b[39msetdefault(\u001b[38;5;124m\"\u001b[39m\u001b[38;5;124mformat\u001b[39m\u001b[38;5;124m\"\u001b[39m, \u001b[38;5;28mformat\u001b[39m)\n\u001b[0;32m   1688\u001b[0m pil_kwargs\u001b[38;5;241m.\u001b[39msetdefault(\u001b[38;5;124m\"\u001b[39m\u001b[38;5;124mdpi\u001b[39m\u001b[38;5;124m\"\u001b[39m, (dpi, dpi))\n\u001b[1;32m-> 1689\u001b[0m \u001b[43mimage\u001b[49m\u001b[38;5;241;43m.\u001b[39;49m\u001b[43msave\u001b[49m\u001b[43m(\u001b[49m\u001b[43mfname\u001b[49m\u001b[43m,\u001b[49m\u001b[43m \u001b[49m\u001b[38;5;241;43m*\u001b[39;49m\u001b[38;5;241;43m*\u001b[39;49m\u001b[43mpil_kwargs\u001b[49m\u001b[43m)\u001b[49m\n",
      "File \u001b[1;32mc:\\Users\\MarcNosas\\.conda\\envs\\UOC\\Lib\\site-packages\\PIL\\Image.py:2429\u001b[0m, in \u001b[0;36mImage.save\u001b[1;34m(self, fp, format, **params)\u001b[0m\n\u001b[0;32m   2427\u001b[0m         fp \u001b[38;5;241m=\u001b[39m builtins\u001b[38;5;241m.\u001b[39mopen(filename, \u001b[38;5;124m\"\u001b[39m\u001b[38;5;124mr+b\u001b[39m\u001b[38;5;124m\"\u001b[39m)\n\u001b[0;32m   2428\u001b[0m     \u001b[38;5;28;01melse\u001b[39;00m:\n\u001b[1;32m-> 2429\u001b[0m         fp \u001b[38;5;241m=\u001b[39m builtins\u001b[38;5;241m.\u001b[39mopen(filename, \u001b[38;5;124m\"\u001b[39m\u001b[38;5;124mw+b\u001b[39m\u001b[38;5;124m\"\u001b[39m)\n\u001b[0;32m   2431\u001b[0m \u001b[38;5;28;01mtry\u001b[39;00m:\n\u001b[0;32m   2432\u001b[0m     save_handler(\u001b[38;5;28mself\u001b[39m, fp, filename)\n",
      "\u001b[1;31mFileNotFoundError\u001b[0m: [Errno 2] No such file or directory: 'IMG/ci_per_mes.jpg'"
     ]
    },
    {
     "data": {
      "image/png": "[encoded data removed]",
      "text/plain": [
       "<Figure size 640x480 with 1 Axes>"
      ]
     },
     "metadata": {},
     "output_type": "display_data"
    }
   ],
   "source": [
    "# plorejem amb seaborn les dades de booking_date agregades per any\n",
    "sns.set_theme(style=\"darkgrid\")\n",
    "sns.countplot(x=df.check_in.dt.year, data=df)\n",
    "# També plotegem el check-out per any en el mateix gràfic\n",
    "plt.title('Check-in per any')\n",
    "plt.xlabel('Any')\n",
    "plt.ylabel('Check-in')\n",
    "# plt.savefig('IMG/ci_per_any.jpg')\n",
    "plt.show()\n",
    "\n",
    "# Ara farem el mateix agregant per mes\n",
    "sns.countplot(x=df.check_in.dt.month, data=df)\n",
    "plt.title('Check-in per mes')\n",
    "plt.xlabel('Mes')\n",
    "plt.ylabel('Check-in')\n",
    "plt.savefig('IMG/ci_per_mes.jpg')\n",
    "\n",
    "plt.show()\n",
    "\n",
    "# Finalment fem el mateix agregant per dia de la setmana\n",
    "sns.countplot(x=df.check_in.dt.dayofweek, data=df)\n",
    "plt.title('Check-in per dia de la setmana')\n",
    "plt.xlabel('Dia de la setmana')\n",
    "plt.ylabel('Check-in')\n",
    "# Fem que en l'eix x apareguin els dies de la setmana\n",
    "plt.xticks([0, 1, 2, 3, 4, 5, 6], ['Dilluns', 'Dimarts', 'Dimecres', 'Dijous', 'Divendres', 'Dissabte','Diumenge'])\n",
    "# plt.savefig('IMG/ci_per_dow.jpg')\n",
    "plt.show()\n",
    "\n",
    "\n",
    "# plorejem amb seaborn les dades de booking_date agregades per any\n",
    "sns.set_theme(style=\"darkgrid\")\n",
    "sns.countplot(x=df.check_out.dt.year, data=df)\n",
    "# També plotegem el check-out per any en el mateix gràfic\n",
    "plt.title('Check-out per any')\n",
    "plt.xlabel('Any')\n",
    "plt.ylabel('Check-out')\n",
    "# plt.savefig('IMG/co_per_any.jpg')\n",
    "plt.show()\n",
    "\n",
    "# Ara farem el mateix agregant per mes\n",
    "sns.countplot(x=df.check_out.dt.month, data=df)\n",
    "plt.title('Check-out per mes')\n",
    "plt.xlabel('Mes')\n",
    "plt.ylabel('Check-out')\n",
    "# plt.savefig('IMG/co_per_mes.jpg')\n",
    "\n",
    "plt.show()\n",
    "\n",
    "# Finalment fem el mateix agregant per dia de la setmana\n",
    "sns.countplot(x=df.check_out.dt.dayofweek, data=df)\n",
    "plt.title('Check-out per dia de la setmana')\n",
    "plt.xlabel('Dia de la setmana')\n",
    "plt.ylabel('Check-out')\n",
    "# Fem que en l'eix x apareguin els dies de la setmana\n",
    "plt.xticks([0, 1, 2, 3, 4, 5, 6], ['Dilluns', 'Dimarts', 'Dimecres', 'Dijous', 'Divendres', 'Dissabte','Diumenge'])\n",
    "# plt.savefig('IMG/co_per_dow.jpg')\n",
    "plt.show()\n",
    "\n"
   ]
  },
  {
   "cell_type": "markdown",
   "metadata": {},
   "source": [
    "Estudi dels camps <code>unidades</code>, <code>pax</code>, i <code>noches</code>:"
   ]
  },
  {
   "cell_type": "code",
   "execution_count": 26,
   "metadata": {},
   "outputs": [
    {
     "name": "stdout",
     "output_type": "stream",
     "text": [
      "            unidades            pax         noches\n",
      "count  391579.000000  391579.000000  391579.000000\n",
      "mean        1.002738       2.119741       2.463929\n",
      "std         0.066680       0.862518       1.881829\n",
      "min         1.000000       1.000000       0.000000\n",
      "25%         1.000000       2.000000       1.000000\n",
      "50%         1.000000       2.000000       2.000000\n",
      "75%         1.000000       2.000000       3.000000\n",
      "max         6.000000      16.000000      91.000000\n"
     ]
    }
   ],
   "source": [
    "# Estudi dels camps unidades, pax i noches, anem a mirar quins valors tenen\n",
    "print(df[['unidades','pax','noches']].describe())"
   ]
  },
  {
   "cell_type": "markdown",
   "metadata": {},
   "source": [
    "Estudi dels camps <code>linea_de_inventario</code>, <code>tipo_alojamiento</code>, <code>ocupacion</code>, <code>pension</code>:"
   ]
  },
  {
   "cell_type": "code",
   "execution_count": 27,
   "metadata": {},
   "outputs": [
    {
     "data": {
      "text/html": [
       "<div>\n",
       "<style scoped>\n",
       "    .dataframe tbody tr th:only-of-type {\n",
       "        vertical-align: middle;\n",
       "    }\n",
       "\n",
       "    .dataframe tbody tr th {\n",
       "        vertical-align: top;\n",
       "    }\n",
       "\n",
       "    .dataframe thead th {\n",
       "        text-align: right;\n",
       "    }\n",
       "</style>\n",
       "<table border=\"1\" class=\"dataframe\">\n",
       "  <thead>\n",
       "    <tr style=\"text-align: right;\">\n",
       "      <th></th>\n",
       "      <th>linea_de_inventario</th>\n",
       "      <th>tipo_alojamiento</th>\n",
       "      <th>ocupacion</th>\n",
       "      <th>pension</th>\n",
       "    </tr>\n",
       "  </thead>\n",
       "  <tbody>\n",
       "    <tr>\n",
       "      <th>17465</th>\n",
       "      <td>familiar_3a_HD_tf</td>\n",
       "      <td>familiar</td>\n",
       "      <td>3a</td>\n",
       "      <td>HD</td>\n",
       "    </tr>\n",
       "    <tr>\n",
       "      <th>141236</th>\n",
       "      <td>ST_2a_SA_EB1</td>\n",
       "      <td>ST</td>\n",
       "      <td>2a</td>\n",
       "      <td>SA</td>\n",
       "    </tr>\n",
       "    <tr>\n",
       "      <th>22562</th>\n",
       "      <td>JUN_2a_HD_cg</td>\n",
       "      <td>JUN</td>\n",
       "      <td>2a</td>\n",
       "      <td>HD</td>\n",
       "    </tr>\n",
       "    <tr>\n",
       "      <th>312991</th>\n",
       "      <td>doble_1a_SA_tf</td>\n",
       "      <td>doble</td>\n",
       "      <td>1a</td>\n",
       "      <td>SA</td>\n",
       "    </tr>\n",
       "    <tr>\n",
       "      <th>211232</th>\n",
       "      <td>cuadruple_3a_HD_sf</td>\n",
       "      <td>cuadruple</td>\n",
       "      <td>3a</td>\n",
       "      <td>HD</td>\n",
       "    </tr>\n",
       "  </tbody>\n",
       "</table>\n",
       "</div>"
      ],
      "text/plain": [
       "       linea_de_inventario tipo_alojamiento ocupacion pension\n",
       "17465    familiar_3a_HD_tf         familiar        3a      HD\n",
       "141236        ST_2a_SA_EB1               ST        2a      SA\n",
       "22562         JUN_2a_HD_cg              JUN        2a      HD\n",
       "312991      doble_1a_SA_tf            doble        1a      SA\n",
       "211232  cuadruple_3a_HD_sf        cuadruple        3a      HD"
      ]
     },
     "execution_count": 27,
     "metadata": {},
     "output_type": "execute_result"
    }
   ],
   "source": [
    "df[['linea_de_inventario','tipo_alojamiento','ocupacion','pension']].sample(5)"
   ]
  },
  {
   "cell_type": "code",
   "execution_count": 28,
   "metadata": {},
   "outputs": [
    {
     "name": "stdout",
     "output_type": "stream",
     "text": [
      "ocupacion\n",
      "2a    256497\n",
      "1a     65381\n",
      "Name: count, dtype: int64\n",
      "pension\n",
      "SA    210896\n",
      "HD    177950\n",
      "MP      2438\n",
      "CO       279\n",
      "PC        15\n",
      "TI         1\n",
      "Name: count, dtype: int64\n"
     ]
    }
   ],
   "source": [
    "print(df.ocupacion.value_counts()[:2])\n",
    "print(df.pension.value_counts()[:20])"
   ]
  },
  {
   "cell_type": "code",
   "execution_count": 29,
   "metadata": {},
   "outputs": [
    {
     "data": {
      "text/plain": [
       "tipo_alojamiento\n",
       "doble        107280\n",
       "ST            53418\n",
       "cuadruple     24784\n",
       "doblesup      22160\n",
       "petit         11970\n",
       "Name: count, dtype: int64"
      ]
     },
     "execution_count": 29,
     "metadata": {},
     "output_type": "execute_result"
    }
   ],
   "source": [
    "df.tipo_alojamiento.value_counts()[:5]"
   ]
  },
  {
   "cell_type": "code",
   "execution_count": 30,
   "metadata": {},
   "outputs": [],
   "source": [
    "# El primer que fem es un drop de la columna linea_de_inventario perque no ens aporta res\n",
    "df.drop('linea_de_inventario', axis=1, inplace=True)\n",
    "# Ara crearem 3 columnes noves, una per num adult, una per num nens i una per num bebes\n",
    "# Per trobar els numeros utilitzarem ReGex. Na seran N adults, Nn seran N nens i Nb seran N bebes\n",
    "df['num_adult'] = df.ocupacion.str.extract(r'(\\d*)a')\n",
    "df['num_nens'] = df.ocupacion.str.extract(r'(\\d*)n')\n",
    "df['num_nadons'] = df.ocupacion.str.extract(r'(\\d*)b')\n",
    "# Convertim els NaNs a 0\n",
    "df['num_adult'] = df['num_adult'].fillna(0).astype(int)\n",
    "df['num_nens'] = df['num_nens'].fillna(0).astype(int)\n",
    "df['num_nadons'] = df['num_nadons'].fillna(0).astype(int)\n",
    "# Ja podem fer un drop de la columna ocupacion\n",
    "df.drop('ocupacion', axis=1, inplace=True)"
   ]
  },
  {
   "cell_type": "markdown",
   "metadata": {},
   "source": [
    "Estudi del camp <code>estado_reserva</code>:"
   ]
  },
  {
   "cell_type": "code",
   "execution_count": 31,
   "metadata": {},
   "outputs": [
    {
     "data": {
      "image/png": "[encoded data removed]",
      "text/plain": [
       "<Figure size 640x480 with 1 Axes>"
      ]
     },
     "metadata": {},
     "output_type": "display_data"
    }
   ],
   "source": [
    "df.estado_reserva.value_counts()\n",
    "# plotegem els valors de estado_reserva amb percentatges i amb un grafic tipus pie\n",
    "estado_reserva_counts = df.estado_reserva.value_counts()\n",
    "percentages = (estado_reserva_counts / estado_reserva_counts.sum()) * 100\n",
    "percentages.head(30).plot(kind='pie')\n",
    "plt.title('Reserves per estat')\n",
    "# Fem que es mostri el percentatge de cada estat de reserva\n",
    "plt.legend(labels=percentages.index, loc=\"best\")\n",
    "plt.axis('equal')\n",
    "\n",
    "# Guardem el grafic\n",
    "# plt.savefig('IMG/Reserves_per_estat.jpg')\n",
    "plt.show()"
   ]
  },
  {
   "cell_type": "code",
   "execution_count": 32,
   "metadata": {},
   "outputs": [
    {
     "name": "stdout",
     "output_type": "stream",
     "text": [
      "estado_reserva\n",
      "OK      70.891187\n",
      "CXL     18.980078\n",
      "PEND    10.128735\n",
      "Name: count, dtype: float64\n"
     ]
    }
   ],
   "source": [
    "print(percentages)"
   ]
  },
  {
   "cell_type": "code",
   "execution_count": 33,
   "metadata": {},
   "outputs": [
    {
     "data": {
      "text/html": [
       "<div>\n",
       "<style scoped>\n",
       "    .dataframe tbody tr th:only-of-type {\n",
       "        vertical-align: middle;\n",
       "    }\n",
       "\n",
       "    .dataframe tbody tr th {\n",
       "        vertical-align: top;\n",
       "    }\n",
       "\n",
       "    .dataframe thead th {\n",
       "        text-align: right;\n",
       "    }\n",
       "</style>\n",
       "<table border=\"1\" class=\"dataframe\">\n",
       "  <thead>\n",
       "    <tr style=\"text-align: right;\">\n",
       "      <th></th>\n",
       "      <th>motor</th>\n",
       "      <th>booking_id</th>\n",
       "      <th>t_booking_id</th>\n",
       "      <th>booking_date</th>\n",
       "      <th>check_in</th>\n",
       "      <th>check_out</th>\n",
       "      <th>unidades</th>\n",
       "      <th>pax</th>\n",
       "      <th>noches</th>\n",
       "      <th>estado_reserva</th>\n",
       "      <th>importe_total</th>\n",
       "      <th>deposito</th>\n",
       "      <th>divisa</th>\n",
       "      <th>tipo_pago</th>\n",
       "      <th>estado_email_cliente</th>\n",
       "      <th>estado_email_hotel</th>\n",
       "      <th>noches_habitacion</th>\n",
       "      <th>ultima_mod</th>\n",
       "      <th>tipo_alojamiento</th>\n",
       "      <th>pension</th>\n",
       "      <th>antelacion_dias</th>\n",
       "      <th>extras</th>\n",
       "      <th>promociones</th>\n",
       "      <th>pais</th>\n",
       "      <th>motivo_cancelacion</th>\n",
       "      <th>fecha_cancelacion</th>\n",
       "      <th>tipo_organizacion</th>\n",
       "      <th>reserva_combinada</th>\n",
       "      <th>origin</th>\n",
       "      <th>mode</th>\n",
       "      <th>codigos_promocionales</th>\n",
       "      <th>fidelizada</th>\n",
       "      <th>no_show</th>\n",
       "      <th>num_adult</th>\n",
       "      <th>num_nens</th>\n",
       "      <th>num_nadons</th>\n",
       "    </tr>\n",
       "  </thead>\n",
       "  <tbody>\n",
       "    <tr>\n",
       "      <th>96</th>\n",
       "      <td>hotel_36</td>\n",
       "      <td>263258.01</td>\n",
       "      <td>263258</td>\n",
       "      <td>2021-12-31 03:43:08</td>\n",
       "      <td>2022-01-07</td>\n",
       "      <td>2022-01-09</td>\n",
       "      <td>1</td>\n",
       "      <td>2</td>\n",
       "      <td>2</td>\n",
       "      <td>PEND</td>\n",
       "      <td>180.00</td>\n",
       "      <td>54.0</td>\n",
       "      <td>EUR</td>\n",
       "      <td>pos</td>\n",
       "      <td>NaN</td>\n",
       "      <td>NaN</td>\n",
       "      <td>2</td>\n",
       "      <td>NaT</td>\n",
       "      <td>A1H_SUP_4o2a</td>\n",
       "      <td>SA</td>\n",
       "      <td>7</td>\n",
       "      <td>NaN</td>\n",
       "      <td>False</td>\n",
       "      <td>ES</td>\n",
       "      <td>NaN</td>\n",
       "      <td>NaT</td>\n",
       "      <td>NaN</td>\n",
       "      <td>False</td>\n",
       "      <td>NaN</td>\n",
       "      <td>NaN</td>\n",
       "      <td>False</td>\n",
       "      <td>False</td>\n",
       "      <td>NONE</td>\n",
       "      <td>2</td>\n",
       "      <td>0</td>\n",
       "      <td>0</td>\n",
       "    </tr>\n",
       "    <tr>\n",
       "      <th>114</th>\n",
       "      <td>hotel_36</td>\n",
       "      <td>103503.01</td>\n",
       "      <td>103503</td>\n",
       "      <td>2021-12-30 22:59:21</td>\n",
       "      <td>2022-11-01</td>\n",
       "      <td>2022-11-06</td>\n",
       "      <td>1</td>\n",
       "      <td>2</td>\n",
       "      <td>5</td>\n",
       "      <td>PEND</td>\n",
       "      <td>590.00</td>\n",
       "      <td>177.0</td>\n",
       "      <td>EUR</td>\n",
       "      <td>pos</td>\n",
       "      <td>NaN</td>\n",
       "      <td>NaN</td>\n",
       "      <td>5</td>\n",
       "      <td>NaT</td>\n",
       "      <td>A1H_1o1a</td>\n",
       "      <td>SA</td>\n",
       "      <td>306</td>\n",
       "      <td>NaN</td>\n",
       "      <td>False</td>\n",
       "      <td>RU</td>\n",
       "      <td>NaN</td>\n",
       "      <td>NaT</td>\n",
       "      <td>NaN</td>\n",
       "      <td>False</td>\n",
       "      <td>NaN</td>\n",
       "      <td>NaN</td>\n",
       "      <td>False</td>\n",
       "      <td>False</td>\n",
       "      <td>NONE</td>\n",
       "      <td>2</td>\n",
       "      <td>0</td>\n",
       "      <td>0</td>\n",
       "    </tr>\n",
       "    <tr>\n",
       "      <th>199</th>\n",
       "      <td>hotel_16</td>\n",
       "      <td>183305.01</td>\n",
       "      <td>183305</td>\n",
       "      <td>2021-12-30 14:06:04</td>\n",
       "      <td>2021-12-31</td>\n",
       "      <td>2022-01-01</td>\n",
       "      <td>1</td>\n",
       "      <td>2</td>\n",
       "      <td>1</td>\n",
       "      <td>PEND</td>\n",
       "      <td>380.95</td>\n",
       "      <td>0.0</td>\n",
       "      <td>EUR</td>\n",
       "      <td>pos</td>\n",
       "      <td>NaN</td>\n",
       "      <td>NaN</td>\n",
       "      <td>1</td>\n",
       "      <td>NaT</td>\n",
       "      <td>CA2021GI</td>\n",
       "      <td>MP</td>\n",
       "      <td>1</td>\n",
       "      <td>NaN</td>\n",
       "      <td>True</td>\n",
       "      <td>ES</td>\n",
       "      <td>NaN</td>\n",
       "      <td>NaT</td>\n",
       "      <td>NaN</td>\n",
       "      <td>False</td>\n",
       "      <td>NaN</td>\n",
       "      <td>NaN</td>\n",
       "      <td>False</td>\n",
       "      <td>False</td>\n",
       "      <td>NONE</td>\n",
       "      <td>2</td>\n",
       "      <td>0</td>\n",
       "      <td>0</td>\n",
       "    </tr>\n",
       "    <tr>\n",
       "      <th>385</th>\n",
       "      <td>hotel_6</td>\n",
       "      <td>285211.01</td>\n",
       "      <td>285211</td>\n",
       "      <td>2021-12-29 14:45:44</td>\n",
       "      <td>2022-01-02</td>\n",
       "      <td>2022-01-05</td>\n",
       "      <td>1</td>\n",
       "      <td>2</td>\n",
       "      <td>3</td>\n",
       "      <td>PEND</td>\n",
       "      <td>152.00</td>\n",
       "      <td>0.0</td>\n",
       "      <td>EUR</td>\n",
       "      <td>pay_no_pain_v2</td>\n",
       "      <td>NaN</td>\n",
       "      <td>NaN</td>\n",
       "      <td>3</td>\n",
       "      <td>NaT</td>\n",
       "      <td>EstInt</td>\n",
       "      <td>SA</td>\n",
       "      <td>4</td>\n",
       "      <td>NaN</td>\n",
       "      <td>True</td>\n",
       "      <td>ES</td>\n",
       "      <td>NaN</td>\n",
       "      <td>NaT</td>\n",
       "      <td>NaN</td>\n",
       "      <td>False</td>\n",
       "      <td>NaN</td>\n",
       "      <td>NaN</td>\n",
       "      <td>False</td>\n",
       "      <td>False</td>\n",
       "      <td>NONE</td>\n",
       "      <td>2</td>\n",
       "      <td>0</td>\n",
       "      <td>0</td>\n",
       "    </tr>\n",
       "    <tr>\n",
       "      <th>502</th>\n",
       "      <td>hotel_37</td>\n",
       "      <td>225285.01</td>\n",
       "      <td>225285</td>\n",
       "      <td>2021-12-28 18:42:55</td>\n",
       "      <td>2021-12-29</td>\n",
       "      <td>2021-12-31</td>\n",
       "      <td>1</td>\n",
       "      <td>2</td>\n",
       "      <td>2</td>\n",
       "      <td>PEND</td>\n",
       "      <td>145.35</td>\n",
       "      <td>0.0</td>\n",
       "      <td>EUR</td>\n",
       "      <td>pay_no_pain_v2</td>\n",
       "      <td>NaN</td>\n",
       "      <td>NaN</td>\n",
       "      <td>2</td>\n",
       "      <td>NaT</td>\n",
       "      <td>DblSt</td>\n",
       "      <td>SA</td>\n",
       "      <td>1</td>\n",
       "      <td>NaN</td>\n",
       "      <td>True</td>\n",
       "      <td>CH</td>\n",
       "      <td>NaN</td>\n",
       "      <td>NaT</td>\n",
       "      <td>NaN</td>\n",
       "      <td>False</td>\n",
       "      <td>NaN</td>\n",
       "      <td>NaN</td>\n",
       "      <td>False</td>\n",
       "      <td>False</td>\n",
       "      <td>NONE</td>\n",
       "      <td>2</td>\n",
       "      <td>0</td>\n",
       "      <td>0</td>\n",
       "    </tr>\n",
       "  </tbody>\n",
       "</table>\n",
       "</div>"
      ],
      "text/plain": [
       "        motor booking_id t_booking_id        booking_date   check_in  check_out  unidades  pax  noches estado_reserva  importe_total  deposito divisa       tipo_pago estado_email_cliente estado_email_hotel  noches_habitacion ultima_mod tipo_alojamiento pension  antelacion_dias extras  promociones pais motivo_cancelacion fecha_cancelacion tipo_organizacion  reserva_combinada origin  mode  codigos_promocionales  fidelizada no_show  num_adult  num_nens  num_nadons\n",
       "96   hotel_36  263258.01       263258 2021-12-31 03:43:08 2022-01-07 2022-01-09         1    2       2           PEND         180.00      54.0    EUR             pos                  NaN                NaN                  2        NaT     A1H_SUP_4o2a      SA                7    NaN        False   ES                NaN               NaT               NaN              False    NaN   NaN                  False       False    NONE          2         0           0\n",
       "114  hotel_36  103503.01       103503 2021-12-30 22:59:21 2022-11-01 2022-11-06         1    2       5           PEND         590.00     177.0    EUR             pos                  NaN                NaN                  5        NaT         A1H_1o1a      SA              306    NaN        False   RU                NaN               NaT               NaN              False    NaN   NaN                  False       False    NONE          2         0           0\n",
       "199  hotel_16  183305.01       183305 2021-12-30 14:06:04 2021-12-31 2022-01-01         1    2       1           PEND         380.95       0.0    EUR             pos                  NaN                NaN                  1        NaT         CA2021GI      MP                1    NaN         True   ES                NaN               NaT               NaN              False    NaN   NaN                  False       False    NONE          2         0           0\n",
       "385   hotel_6  285211.01       285211 2021-12-29 14:45:44 2022-01-02 2022-01-05         1    2       3           PEND         152.00       0.0    EUR  pay_no_pain_v2                  NaN                NaN                  3        NaT           EstInt      SA                4    NaN         True   ES                NaN               NaT               NaN              False    NaN   NaN                  False       False    NONE          2         0           0\n",
       "502  hotel_37  225285.01       225285 2021-12-28 18:42:55 2021-12-29 2021-12-31         1    2       2           PEND         145.35       0.0    EUR  pay_no_pain_v2                  NaN                NaN                  2        NaT            DblSt      SA                1    NaN         True   CH                NaN               NaT               NaN              False    NaN   NaN                  False       False    NONE          2         0           0"
      ]
     },
     "execution_count": 33,
     "metadata": {},
     "output_type": "execute_result"
    }
   ],
   "source": [
    "# Agafem només el subgrup que té estat de reserva PEND\n",
    "df_pend = df[df.estado_reserva == 'PEND']\n",
    "df_pend.head()"
   ]
  },
  {
   "cell_type": "code",
   "execution_count": 34,
   "metadata": {},
   "outputs": [
    {
     "data": {
      "text/plain": [
       "estado_reserva\n",
       "OK      277595\n",
       "CXL      74322\n",
       "PEND     39662\n",
       "Name: count, dtype: int64"
      ]
     },
     "execution_count": 34,
     "metadata": {},
     "output_type": "execute_result"
    }
   ],
   "source": [
    "estado_reserva_counts"
   ]
  },
  {
   "cell_type": "markdown",
   "metadata": {},
   "source": [
    "Estudi dels camps <code>importe_total</code> i <code>deposito</code>:"
   ]
  },
  {
   "cell_type": "code",
   "execution_count": 35,
   "metadata": {},
   "outputs": [
    {
     "name": "stdout",
     "output_type": "stream",
     "text": [
      "count    391579.000000\n",
      "mean        455.880990\n",
      "std         522.981781\n",
      "min          -0.010000\n",
      "25%         160.830000\n",
      "50%         304.000000\n",
      "75%         555.900000\n",
      "max       24615.040000\n",
      "Name: importe_total, dtype: float64\n"
     ]
    },
    {
     "data": {
      "text/plain": [
       "Text(0, 0.5, 'Import mitjà')"
      ]
     },
     "execution_count": 35,
     "metadata": {},
     "output_type": "execute_result"
    },
    {
     "data": {
      "image/png": "[encoded data removed]",
      "text/plain": [
       "<Figure size 640x480 with 1 Axes>"
      ]
     },
     "metadata": {},
     "output_type": "display_data"
    }
   ],
   "source": [
    "# Ara estudiem els camps importe_total i deposito,\n",
    "# Mirarem quina és la distribució dels valors i quin percentatge de reserves tenen dipòsit\n",
    "print(df.importe_total.describe())\n",
    "\n",
    "# plotegem els valors de importe_total en funció de les dates de reserva\n",
    "df.groupby(df.booking_date.dt.year).importe_total.mean().plot(kind='line')\n",
    "plt.title('Import mitg per mes')\n",
    "plt.xlabel('Mes')\n",
    "plt.ylabel('Import mitjà')\n",
    "# plt.savefig('IMG/Import_mitjà_per_mes.jpg')\n",
    "\n"
   ]
  },
  {
   "cell_type": "code",
   "execution_count": 36,
   "metadata": {},
   "outputs": [
    {
     "data": {
      "image/png": "[encoded data removed]",
      "text/plain": [
       "<Figure size 640x480 with 1 Axes>"
      ]
     },
     "metadata": {},
     "output_type": "display_data"
    }
   ],
   "source": [
    "# També mirarem amb un histograma com es distribueixen els valors de importe_total\n",
    "df.importe_total.hist(bins=500)\n",
    "plt.title('Distribució dels imports')\n",
    "plt.xlabel('Import')\n",
    "plt.ylabel('Reserves')\n",
    "# Fem que vagin entre 0 i 1000\n",
    "plt.xlim(0,1000)\n",
    "# plt.savefig('IMG/Import_total_hist.jpg')\n",
    "plt.show()\n"
   ]
  },
  {
   "cell_type": "code",
   "execution_count": 37,
   "metadata": {},
   "outputs": [
    {
     "name": "stdout",
     "output_type": "stream",
     "text": [
      "count    391579.000000\n",
      "mean         60.460683\n",
      "std         260.287431\n",
      "min           0.000000\n",
      "25%           0.000000\n",
      "50%           0.000000\n",
      "75%           0.000000\n",
      "max       21530.000000\n",
      "Name: deposito, dtype: float64\n"
     ]
    }
   ],
   "source": [
    "# Ara mirem en quin percentatge de reserves hi ha dipòsit\n",
    "print(df.deposito.describe())\n",
    "# print(df.deposito.value_counts())"
   ]
  },
  {
   "cell_type": "code",
   "execution_count": 38,
   "metadata": {},
   "outputs": [
    {
     "data": {
      "text/plain": [
       "0.871070716253936"
      ]
     },
     "execution_count": 38,
     "metadata": {},
     "output_type": "execute_result"
    }
   ],
   "source": [
    "deposito = df.deposito.value_counts()\n",
    "deposito[0]/df.deposito.shape[0]"
   ]
  },
  {
   "cell_type": "markdown",
   "metadata": {},
   "source": [
    "Estudi del camp <code>divisa</code> i <code>tipo_pago</code>:"
   ]
  },
  {
   "cell_type": "code",
   "execution_count": 39,
   "metadata": {},
   "outputs": [
    {
     "data": {
      "text/plain": [
       "divisa\n",
       "EUR    391576\n",
       "USD         3\n",
       "Name: count, dtype: int64"
      ]
     },
     "execution_count": 39,
     "metadata": {},
     "output_type": "execute_result"
    }
   ],
   "source": [
    "divisas = df.divisa.value_counts()\n",
    "divisas"
   ]
  },
  {
   "cell_type": "code",
   "execution_count": 40,
   "metadata": {},
   "outputs": [
    {
     "data": {
      "text/plain": [
       "0"
      ]
     },
     "execution_count": 40,
     "metadata": {},
     "output_type": "execute_result"
    }
   ],
   "source": [
    "df.divisa.isna().sum()"
   ]
  },
  {
   "cell_type": "markdown",
   "metadata": {},
   "source": [
    "Estudi dels camps <code>estado_email_cliente</code> i <code>estado_email_hotel</code>:"
   ]
  },
  {
   "cell_type": "code",
   "execution_count": 41,
   "metadata": {},
   "outputs": [
    {
     "name": "stdout",
     "output_type": "stream",
     "text": [
      "estado_email_cliente\n",
      "OPEN           233547\n",
      "CLICK           44663\n",
      "SEND            36278\n",
      "HARD_BOUNCE      1517\n",
      "SOFT_BOUNCE      1363\n",
      "INVALID           241\n",
      "DEFERRAL           28\n",
      "QUEUED             17\n",
      "SPAM                3\n",
      "Name: count, dtype: int64\n"
     ]
    },
    {
     "data": {
      "text/plain": [
       "73922"
      ]
     },
     "execution_count": 41,
     "metadata": {},
     "output_type": "execute_result"
    }
   ],
   "source": [
    "print(df.estado_email_cliente.value_counts())\n",
    "df.estado_email_cliente.isna().sum()"
   ]
  },
  {
   "cell_type": "code",
   "execution_count": 42,
   "metadata": {},
   "outputs": [
    {
     "name": "stdout",
     "output_type": "stream",
     "text": [
      "estado_email_hotel\n",
      "SEND           229742\n",
      "OPEN            73787\n",
      "INVALID          2954\n",
      "CLICK            1766\n",
      "SOFT_BOUNCE        65\n",
      "DEFERRAL           41\n",
      "HARD_BOUNCE        18\n",
      "QUEUED              9\n",
      "Name: count, dtype: int64\n"
     ]
    },
    {
     "data": {
      "text/plain": [
       "83197"
      ]
     },
     "execution_count": 42,
     "metadata": {},
     "output_type": "execute_result"
    }
   ],
   "source": [
    "print(df.estado_email_hotel.value_counts())\n",
    "df.estado_email_hotel.isna().sum()"
   ]
  },
  {
   "cell_type": "markdown",
   "metadata": {},
   "source": [
    "Estudi del camp <code>pais</code>:"
   ]
  },
  {
   "cell_type": "code",
   "execution_count": 43,
   "metadata": {},
   "outputs": [
    {
     "name": "stdout",
     "output_type": "stream",
     "text": [
      "pais\n",
      "ES    207971\n",
      "US     38147\n",
      "FR     20528\n",
      "GB     15074\n",
      "DE     10753\n",
      "Name: count, dtype: int64\n"
     ]
    },
    {
     "data": {
      "text/plain": [
       "1463"
      ]
     },
     "execution_count": 43,
     "metadata": {},
     "output_type": "execute_result"
    }
   ],
   "source": [
    "print(df.pais.value_counts()[:5])\n",
    "df.pais.isna().sum()"
   ]
  },
  {
   "cell_type": "markdown",
   "metadata": {},
   "source": [
    "Estudi dels camps <code>motivo cancelacion</code> i <code>fecha_cancelacion</code>:"
   ]
  },
  {
   "cell_type": "code",
   "execution_count": 44,
   "metadata": {},
   "outputs": [
    {
     "name": "stdout",
     "output_type": "stream",
     "text": [
      "motivo_cancelacion\n",
      "OTROS            67199\n",
      "CAMBIO FECHAS     2390\n",
      "ANULACIÓN          954\n",
      "ENFERMEDAD         789\n",
      "COVID-19           523\n",
      "Name: count, dtype: int64\n"
     ]
    },
    {
     "data": {
      "text/plain": [
       "71855"
      ]
     },
     "execution_count": 44,
     "metadata": {},
     "output_type": "execute_result"
    }
   ],
   "source": [
    "print(df.motivo_cancelacion.value_counts())\n",
    "df.motivo_cancelacion.shape[0]- df.motivo_cancelacion.isna().sum()\n"
   ]
  },
  {
   "cell_type": "code",
   "execution_count": 45,
   "metadata": {},
   "outputs": [
    {
     "name": "stdout",
     "output_type": "stream",
     "text": [
      "fecha_cancelacion\n",
      "2023-08-28 12:01:00    4\n",
      "2023-08-03 00:01:21    3\n",
      "2023-08-14 00:01:20    3\n",
      "2023-08-05 07:30:49    2\n",
      "2023-08-02 21:01:20    2\n",
      "                      ..\n",
      "2022-08-04 07:57:16    1\n",
      "2022-10-17 19:34:40    1\n",
      "2022-10-17 19:31:42    1\n",
      "2022-10-17 20:00:26    1\n",
      "2023-06-11 00:52:57    1\n",
      "Name: count, Length: 71907, dtype: int64\n"
     ]
    },
    {
     "data": {
      "text/plain": [
       "71855"
      ]
     },
     "execution_count": 45,
     "metadata": {},
     "output_type": "execute_result"
    }
   ],
   "source": [
    "print(df.fecha_cancelacion.value_counts())\n",
    "df.fecha_cancelacion.shape[0]- df.motivo_cancelacion.isna().sum()\n"
   ]
  },
  {
   "cell_type": "markdown",
   "metadata": {},
   "source": [
    "Hem parlat amb els programadors i he descobert que el camp <code>mode</code> en realitat es tracta de la versió del motor, per això canviem el type a string."
   ]
  },
  {
   "cell_type": "code",
   "execution_count": 46,
   "metadata": {},
   "outputs": [],
   "source": [
    "df['mode'] = df['mode'].astype(str)"
   ]
  },
  {
   "cell_type": "markdown",
   "metadata": {},
   "source": [
    "#### Neteja i verificació de les dades:"
   ]
  },
  {
   "cell_type": "code",
   "execution_count": 47,
   "metadata": {},
   "outputs": [
    {
     "data": {
      "text/plain": [
       "(363163, 36)"
      ]
     },
     "execution_count": 47,
     "metadata": {},
     "output_type": "execute_result"
    }
   ],
   "source": [
    "# Eliminem tots els registres que tinguin check_in majors que df.booking_date.max()\n",
    "df_clean = df[df.check_in <= df.booking_date.max()]\n",
    "df_clean.shape"
   ]
  },
  {
   "cell_type": "code",
   "execution_count": 48,
   "metadata": {},
   "outputs": [],
   "source": [
    "# Ara fem un drop de totes les que a status tinguin PEND\n",
    "df_clean = df_clean[df_clean.estado_reserva != 'PEND']\n",
    "# Creem una nova columna amb un boolea, si és CXL serà True, si no False\n",
    "df_clean['cancelada'] = df_clean.estado_reserva == 'CXL'"
   ]
  },
  {
   "cell_type": "code",
   "execution_count": 49,
   "metadata": {},
   "outputs": [],
   "source": [
    "drops = ['ultima_mod', 'motivo_cancelacion', 'fecha_cancelacion', 'booking_id', 't_booking_id', 'pax', 'no_show', 'estado_reserva']\n",
    "df_clean.drop(drops, axis=1, inplace=True)"
   ]
  },
  {
   "cell_type": "code",
   "execution_count": 50,
   "metadata": {},
   "outputs": [
    {
     "data": {
      "text/plain": [
       "motor                         0\n",
       "booking_date                  0\n",
       "check_in                      0\n",
       "check_out                     0\n",
       "unidades                      0\n",
       "noches                        0\n",
       "importe_total                 0\n",
       "deposito                      0\n",
       "divisa                        0\n",
       "tipo_pago                     0\n",
       "estado_email_cliente      31850\n",
       "estado_email_hotel        40720\n",
       "noches_habitacion             0\n",
       "tipo_alojamiento              0\n",
       "pension                       0\n",
       "antelacion_dias               0\n",
       "extras                   283018\n",
       "promociones                   0\n",
       "pais                       1226\n",
       "tipo_organizacion        320144\n",
       "reserva_combinada             0\n",
       "origin                   248579\n",
       "mode                          0\n",
       "codigos_promocionales         0\n",
       "fidelizada                    0\n",
       "num_adult                     0\n",
       "num_nens                      0\n",
       "num_nadons                    0\n",
       "cancelada                     0\n",
       "dtype: int64"
      ]
     },
     "execution_count": 50,
     "metadata": {},
     "output_type": "execute_result"
    }
   ],
   "source": [
    "# Repassem quins camps tenen valors sense sentit\n",
    "df_clean.isna().sum()"
   ]
  },
  {
   "cell_type": "code",
   "execution_count": 51,
   "metadata": {},
   "outputs": [
    {
     "name": "stdout",
     "output_type": "stream",
     "text": [
      "<class 'pandas.core.frame.DataFrame'>\n",
      "Index: 248579 entries, 0 to 391578\n",
      "Data columns (total 29 columns):\n",
      " #   Column                 Non-Null Count   Dtype         \n",
      "---  ------                 --------------   -----         \n",
      " 0   motor                  248579 non-null  object        \n",
      " 1   booking_date           248579 non-null  datetime64[ns]\n",
      " 2   check_in               248579 non-null  datetime64[ns]\n",
      " 3   check_out              248579 non-null  datetime64[ns]\n",
      " 4   unidades               248579 non-null  int64         \n",
      " 5   noches                 248579 non-null  int64         \n",
      " 6   importe_total          248579 non-null  float64       \n",
      " 7   deposito               248579 non-null  float64       \n",
      " 8   divisa                 248579 non-null  object        \n",
      " 9   tipo_pago              248579 non-null  object        \n",
      " 10  estado_email_cliente   228890 non-null  object        \n",
      " 11  estado_email_hotel     221940 non-null  object        \n",
      " 12  noches_habitacion      248579 non-null  int64         \n",
      " 13  tipo_alojamiento       248579 non-null  object        \n",
      " 14  pension                248579 non-null  object        \n",
      " 15  antelacion_dias        248579 non-null  int64         \n",
      " 16  extras                 35995 non-null   object        \n",
      " 17  promociones            248579 non-null  bool          \n",
      " 18  pais                   247381 non-null  object        \n",
      " 19  tipo_organizacion      4080 non-null    object        \n",
      " 20  reserva_combinada      248579 non-null  bool          \n",
      " 21  origin                 0 non-null       object        \n",
      " 22  mode                   248579 non-null  object        \n",
      " 23  codigos_promocionales  248579 non-null  bool          \n",
      " 24  fidelizada             248579 non-null  bool          \n",
      " 25  num_adult              248579 non-null  int32         \n",
      " 26  num_nens               248579 non-null  int32         \n",
      " 27  num_nadons             248579 non-null  int32         \n",
      " 28  cancelada              248579 non-null  bool          \n",
      "dtypes: bool(5), datetime64[ns](3), float64(2), int32(3), int64(4), object(12)\n",
      "memory usage: 45.8+ MB\n",
      "None\n"
     ]
    }
   ],
   "source": [
    "print(df_clean[df_clean.origin.isna()].info())"
   ]
  },
  {
   "cell_type": "code",
   "execution_count": 52,
   "metadata": {},
   "outputs": [],
   "source": [
    "# Al camp origin el passem a minuscules\n",
    "df_clean['origin'] = df_clean['origin'].str.lower()"
   ]
  },
  {
   "cell_type": "code",
   "execution_count": 53,
   "metadata": {},
   "outputs": [
    {
     "data": {
      "text/plain": [
       "['motor',\n",
       " 'booking_date',\n",
       " 'check_in',\n",
       " 'check_out',\n",
       " 'unidades',\n",
       " 'noches',\n",
       " 'importe_total',\n",
       " 'deposito',\n",
       " 'divisa',\n",
       " 'tipo_pago',\n",
       " 'estado_email_cliente',\n",
       " 'estado_email_hotel',\n",
       " 'noches_habitacion',\n",
       " 'tipo_alojamiento',\n",
       " 'pension',\n",
       " 'antelacion_dias',\n",
       " 'extras',\n",
       " 'promociones',\n",
       " 'pais',\n",
       " 'tipo_organizacion',\n",
       " 'reserva_combinada',\n",
       " 'origin',\n",
       " 'mode',\n",
       " 'codigos_promocionales',\n",
       " 'fidelizada',\n",
       " 'num_adult',\n",
       " 'num_nens',\n",
       " 'num_nadons',\n",
       " 'cancelada']"
      ]
     },
     "execution_count": 53,
     "metadata": {},
     "output_type": "execute_result"
    }
   ],
   "source": [
    "list(df_clean.columns)"
   ]
  },
  {
   "cell_type": "code",
   "execution_count": 54,
   "metadata": {},
   "outputs": [],
   "source": [
    "# Fem un filtre i seleccionem només les dades on importe_total sigui més gran que 0\n",
    "df_clean = df_clean[df_clean.importe_total > 0]\n",
    "df_clean = df_clean[df_clean.noches > 0]"
   ]
  },
  {
   "cell_type": "markdown",
   "metadata": {},
   "source": [
    "Verifiquem que les dades siguin les adequades"
   ]
  },
  {
   "cell_type": "code",
   "execution_count": 55,
   "metadata": {},
   "outputs": [
    {
     "data": {
      "text/plain": [
       "dtype('O')"
      ]
     },
     "execution_count": 55,
     "metadata": {},
     "output_type": "execute_result"
    }
   ],
   "source": [
    "df_clean.motor.dtype"
   ]
  },
  {
   "cell_type": "code",
   "execution_count": 56,
   "metadata": {},
   "outputs": [],
   "source": [
    "# Ara comprovem que totes les columnes tinguin els valors esperats\n",
    "assert df_clean['cancelada'].isna().sum() == 0\n",
    "# Definim un tipus de dades per a cada columna\n",
    "column_types = {'motor': 'object',\n",
    " 'booking_date' : 'datetime64[ns]',\n",
    " 'check_in' : 'datetime64[ns]',\n",
    " 'check_out' : 'datetime64[ns]',\n",
    " 'unidades' : 'int64',\n",
    " 'noches' : 'int64',\n",
    " 'importe_total' : 'float64',\n",
    " 'deposito' : 'float64',\n",
    " 'divisa' : 'object',\n",
    " 'tipo_pago' : 'object',\n",
    " 'estado_email_cliente' : 'object',\n",
    " 'estado_email_hotel' : 'object',\n",
    " 'noches_habitacion' : 'int64',\n",
    " 'tipo_alojamiento' : 'object',\n",
    " 'pension' : 'object',\n",
    " 'antelacion_dias' : 'int64',\n",
    " 'extras' : 'object',\n",
    " 'promociones' : 'bool',\n",
    " 'pais' : 'object',\n",
    " 'tipo_organizacion' : 'object',\n",
    " 'reserva_combinada' : 'bool',\n",
    " 'origin' : 'object',\n",
    " 'mode' : 'object', \n",
    " 'codigos_promocionales' : 'bool', \n",
    " 'fidelizada' : 'bool',\n",
    " 'num_adult' : 'int32',\n",
    " 'num_nens' : 'int32',\n",
    " 'num_nadons' : 'int32',\n",
    " 'cancelada' : 'bool'}\n",
    "# Comprovem que totes les columnes tinguin els valors esperats\n",
    "for column_type in column_types:\n",
    "    try:\n",
    "        assert df_clean[column_type].dtype == column_types[column_type]\n",
    "    except:\n",
    "        print(column_type, df_clean[column_type].dtype, column_types[column_type])\n",
    "        raise "
   ]
  },
  {
   "cell_type": "markdown",
   "metadata": {},
   "source": [
    "#### Estudi correlacions\n",
    "Seguim amb l'estudi de les columnes i les seves correlacions:"
   ]
  },
  {
   "cell_type": "code",
   "execution_count": 57,
   "metadata": {},
   "outputs": [],
   "source": [
    "#  Fem un pairplot per veure les correlacions entre les variables i la columna cancelada\n",
    "# Perque es pugui veure millor, només agafem un subconjunt de les dades\n",
    "# Aquest pairplot el farem amb histogrames, per veure les distribucions de les variables\n",
    "# sns.pairplot(df_clean[['importe_total', 'deposito', 'noches_habitacion', 'promociones', 'pais','cancelada']], hue='cancelada', diag_kind='hist')\n",
    "# sns.pairplot(df_clean[['importe_total', 'deposito', 'noches_habitacion', 'promociones', 'pais','cancelada']], hue='cancelada')\n"
   ]
  },
  {
   "cell_type": "code",
   "execution_count": 58,
   "metadata": {},
   "outputs": [
    {
     "data": {
      "image/png": "[encoded data removed]",
      "text/plain": [
       "<Figure size 640x480 with 2 Axes>"
      ]
     },
     "metadata": {},
     "output_type": "display_data"
    }
   ],
   "source": [
    "# També fem la matrix de correlacions\n",
    "# Agafem nomes els camps que tenen valors numerics\n",
    "df_clean_num = df_clean.select_dtypes(include=['float64', 'int64', 'int32'])\n",
    "sns.heatmap(df_clean_num.corr(), annot=True, cmap='coolwarm')\n",
    "plt.title('Correlacions')\n",
    "# plt.savefig('IMG/Correlacions.jpg')\n",
    "plt.show()"
   ]
  },
  {
   "cell_type": "code",
   "execution_count": 60,
   "metadata": {},
   "outputs": [
    {
     "data": {
      "image/png": "[encoded data removed]",
      "text/plain": [
       "<Figure size 640x480 with 2 Axes>"
      ]
     },
     "metadata": {},
     "output_type": "display_data"
    }
   ],
   "source": [
    "# Fem drop de les columnes noches_habitacion i deposito perque tenen una correlació molt alta amb noches\n",
    "df_clean_num = df_clean.select_dtypes(include=['bool'])\n",
    "sns.heatmap(df_clean_num.corr(), annot=True, cmap='coolwarm')\n",
    "plt.title('Correlacions')\n",
    "# plt.savefig('IMG/Correlacions_bool.jpg')\n",
    "plt.show()"
   ]
  },
  {
   "cell_type": "markdown",
   "metadata": {},
   "source": [
    "#### Normalització de les dades:"
   ]
  },
  {
   "cell_type": "code",
   "execution_count": 61,
   "metadata": {},
   "outputs": [],
   "source": [
    "# El primer que farem serà crear una columna avg_price_night que serà el importe_total dividit per noches_habitacion\n",
    "df_clean['avg_price_night'] = df_clean.importe_total / df_clean.noches_habitacion\n",
    "# I ara farem un drop de les columnes importe_total, noches i noches_habitacion\n",
    "drop = ['importe_total', 'noches', 'noches_habitacion', 'deposito']\n",
    "df_clean.drop(drop, axis=1, inplace=True)\n",
    "\n"
   ]
  },
  {
   "cell_type": "code",
   "execution_count": 62,
   "metadata": {},
   "outputs": [
    {
     "data": {
      "text/plain": [
       "3125.0"
      ]
     },
     "execution_count": 62,
     "metadata": {},
     "output_type": "execute_result"
    }
   ],
   "source": [
    "df_clean.avg_price_night.max()"
   ]
  },
  {
   "cell_type": "code",
   "execution_count": 63,
   "metadata": {},
   "outputs": [
    {
     "data": {
      "image/png": "[encoded data removed]",
      "text/plain": [
       "<Figure size 640x480 with 1 Axes>"
      ]
     },
     "metadata": {},
     "output_type": "display_data"
    }
   ],
   "source": [
    "# Plotejem la distribució de avg_price_night\n",
    "df_clean.avg_price_night.hist(bins=500)\n",
    "plt.title('Distribució dels imports per nit')\n",
    "plt.xlabel('Import per nit')\n",
    "plt.ylabel('Reserves')\n",
    "# Posem un limit a l'eix x perque es vegi millor\n",
    "plt.xlim(0,500)\n",
    "\n",
    "# plt.savefig('IMG/Import_per_nit.jpg')\n",
    "plt.show()"
   ]
  },
  {
   "cell_type": "code",
   "execution_count": 64,
   "metadata": {},
   "outputs": [],
   "source": [
    "# Anem a normalitzar aquest camp, ho farem amb una normalització per la desviació estàndard\n",
    "# Primer calculem la mitjana i la desviació estàndard\n",
    "avg_price_night_mean = df_clean.avg_price_night.mean()\n",
    "avg_price_night_std = df_clean.avg_price_night.std()\n",
    "# Ara normalitzem\n",
    "df_clean['avg_price_night_norm'] = (df_clean.avg_price_night - avg_price_night_mean) / avg_price_night_std\n"
   ]
  },
  {
   "cell_type": "code",
   "execution_count": 65,
   "metadata": {},
   "outputs": [],
   "source": [
    "# Ara normalitzem per màx els camps: antelacion_dias, num_adult, num_nens, num_nadons\n",
    "# Primer calculem el màxim\n",
    "unidades_max = df_clean.unidades.max()\n",
    "# antelacion_dias_max = df_clean.antelacion_dias.max()\n",
    "num_adult_max = df_clean.num_adult.max()\n",
    "num_nens_max = df_clean.num_nens.max()\n",
    "num_nadons_max = df_clean.num_nadons.max()\n",
    "# Ara normalitzem\n",
    "df_clean['unidades_norm'] = df_clean.unidades / unidades_max\n",
    "# df_clean['antelacion_dias_norm'] = df_clean.antelacion_dias / antelacion_dias_max\n",
    "df_clean['num_adult_norm'] = df_clean.num_adult / num_adult_max\n",
    "df_clean['num_nens_norm'] = df_clean.num_nens / num_nens_max\n",
    "df_clean['num_nadons_norm'] = df_clean.num_nadons / num_nadons_max\n"
   ]
  },
  {
   "cell_type": "code",
   "execution_count": 66,
   "metadata": {},
   "outputs": [],
   "source": [
    "# Ara farem un drop de les columnes antelacion_dias, num_adult, num_nens, num_nadons i avg_price_night\n",
    "drop = ['unidades', 'num_adult', 'num_nens', 'num_nadons', 'avg_price_night'] # antelacion_dias\n",
    "df_clean.drop(drop, axis=1, inplace=True)\n"
   ]
  },
  {
   "cell_type": "code",
   "execution_count": 67,
   "metadata": {},
   "outputs": [
    {
     "name": "stdout",
     "output_type": "stream",
     "text": [
      "<class 'pandas.core.frame.DataFrame'>\n",
      "Index: 325437 entries, 0 to 391578\n",
      "Data columns (total 6 columns):\n",
      " #   Column                Non-Null Count   Dtype  \n",
      "---  ------                --------------   -----  \n",
      " 0   antelacion_dias       325437 non-null  int64  \n",
      " 1   avg_price_night_norm  325437 non-null  float64\n",
      " 2   unidades_norm         325437 non-null  float64\n",
      " 3   num_adult_norm        325437 non-null  float64\n",
      " 4   num_nens_norm         325437 non-null  float64\n",
      " 5   num_nadons_norm       325437 non-null  float64\n",
      "dtypes: float64(5), int64(1)\n",
      "memory usage: 17.4 MB\n"
     ]
    }
   ],
   "source": [
    "df_clean.select_dtypes(include=['float64', 'int64', 'int32']).info()"
   ]
  },
  {
   "cell_type": "code",
   "execution_count": 68,
   "metadata": {},
   "outputs": [
    {
     "data": {
      "text/plain": [
       "num_nens_norm\n",
       "0.000    297688\n",
       "0.125     15763\n",
       "0.250     11156\n",
       "0.375       756\n",
       "0.500        70\n",
       "0.625         2\n",
       "0.750         1\n",
       "1.000         1\n",
       "Name: count, dtype: int64"
      ]
     },
     "execution_count": 68,
     "metadata": {},
     "output_type": "execute_result"
    }
   ],
   "source": [
    "df_clean['num_nens_norm'].value_counts()"
   ]
  },
  {
   "cell_type": "markdown",
   "metadata": {},
   "source": [
    "#### Discretització de les dades:\n",
    "Comencem amb la discretització estudiant la variable <code>avg_price_night_norm</code>:"
   ]
  },
  {
   "cell_type": "code",
   "execution_count": 69,
   "metadata": {},
   "outputs": [
    {
     "data": {
      "image/png": "[encoded data removed]",
      "text/plain": [
       "<Figure size 640x480 with 1 Axes>"
      ]
     },
     "metadata": {},
     "output_type": "display_data"
    },
    {
     "data": {
      "image/png": "[encoded data removed]",
      "text/plain": [
       "<Figure size 640x480 with 1 Axes>"
      ]
     },
     "metadata": {},
     "output_type": "display_data"
    }
   ],
   "source": [
    "# Recordem que hem normaitzat el camp i que l'hem centrat en el 0, \n",
    "df_clean.avg_price_night_norm.hist(bins=500)\n",
    "plt.title('Distribució dels imports per nit')\n",
    "plt.xlabel('Import per nit')\n",
    "plt.ylabel('Reserves')\n",
    "# Posem un limit a l'eix x perque es vegi millor\n",
    "plt.xlim(-5,5)\n",
    "plt.show()\n",
    "# Ara farem el mateix plot però només amb les reserves cancelades\n",
    "df_clean[df_clean.cancelada].avg_price_night_norm.hist(bins=500)\n",
    "plt.title('Distribució dels imports per nit')\n",
    "plt.xlabel('Import per nit')\n",
    "plt.ylabel('Reserves')\n",
    "# Posem un limit a l'eix x perque es vegi millor\n",
    "plt.xlim(-5,5)\n",
    "plt.show()"
   ]
  },
  {
   "cell_type": "code",
   "execution_count": 70,
   "metadata": {},
   "outputs": [
    {
     "name": "stdout",
     "output_type": "stream",
     "text": [
      "-0.6327141218863754 -0.24611166954297187 0.3309646535641653\n"
     ]
    }
   ],
   "source": [
    "# Ara trencarem la variable per quartils,\n",
    "# Primer calculem els quartils, \n",
    "quartil_1 = df_clean.avg_price_night_norm.quantile(0.25)\n",
    "quartil_2 = df_clean.avg_price_night_norm.quantile(0.5)\n",
    "quartil_3 = df_clean.avg_price_night_norm.quantile(0.75)\n",
    "# Ara creem la columna avg_price_night_quartil\n",
    "print(quartil_1, quartil_2, quartil_3)\n",
    "# Creem una funció que ens retorni el quartil al que pertany un valor, \n",
    "# farem que els resultats estiguin entre 0 i 1 per tal de que tingui sentit amb la resta del df\n",
    "def quartil(value):\n",
    "    if value < quartil_1:\n",
    "        return 0\n",
    "    elif value < quartil_2:\n",
    "        return 1/3\n",
    "    elif value < quartil_3:\n",
    "        return 2/3\n",
    "    else:\n",
    "        return 1\n",
    "\n",
    "# Ara apliquem la funció a la columna avg_price_night_norm\n",
    "df_clean['avg_price_night_disc'] = df_clean.avg_price_night_norm.apply(quartil)\n"
   ]
  },
  {
   "cell_type": "code",
   "execution_count": 71,
   "metadata": {},
   "outputs": [
    {
     "name": "stdout",
     "output_type": "stream",
     "text": [
      "count    325437.000000\n",
      "mean         39.343132\n",
      "std          50.447346\n",
      "min          -1.000000\n",
      "25%           5.000000\n",
      "50%          20.000000\n",
      "75%          54.000000\n",
      "max         542.000000\n",
      "Name: antelacion_dias, dtype: float64\n"
     ]
    }
   ],
   "source": [
    "# Ara anem a discretitzar el camp antelacion_dias,\n",
    "# En aquest cas farem 3 grups, els que reserven amb menys de 7 dies d'antelació, els que reserven entre 7 i 30 dies i els que reserven amb més de 30 dies\n",
    "print(df_clean.antelacion_dias.describe())\n",
    "# Creem una funció que ens retorni el grup al que pertany un valor,\n",
    "# farem que els resultats estiguin entre 0 i 1 per tal de que tingui sentit amb la resta del df\n",
    "def antelacion_dias_group(value):\n",
    "    if value < 7:\n",
    "        return 0\n",
    "    elif value < 30:\n",
    "        return 1/2\n",
    "    else:\n",
    "        return 1\n",
    "\n",
    "# Ara apliquem la funció a la columna antelacion_dias\n",
    "df_clean['antelacion_dias_disc'] = df_clean.antelacion_dias.apply(antelacion_dias_group)"
   ]
  },
  {
   "cell_type": "code",
   "execution_count": 72,
   "metadata": {},
   "outputs": [],
   "source": [
    "df_clean.head()\n",
    "# Ara per cal treure les columnes que hem discretitzat per tal de que no hi hagi correlacions\n",
    "drop = ['antelacion_dias', 'avg_price_night_norm']\n",
    "df_clean.drop(drop, axis=1, inplace=True)"
   ]
  },
  {
   "cell_type": "code",
   "execution_count": 73,
   "metadata": {},
   "outputs": [
    {
     "name": "stdout",
     "output_type": "stream",
     "text": [
      "<class 'pandas.core.frame.DataFrame'>\n",
      "Index: 325437 entries, 0 to 391578\n",
      "Data columns (total 12 columns):\n",
      " #   Column                Non-Null Count   Dtype \n",
      "---  ------                --------------   ----- \n",
      " 0   motor                 325437 non-null  object\n",
      " 1   divisa                325437 non-null  object\n",
      " 2   tipo_pago             325437 non-null  object\n",
      " 3   estado_email_cliente  293732 non-null  object\n",
      " 4   estado_email_hotel    284893 non-null  object\n",
      " 5   tipo_alojamiento      325437 non-null  object\n",
      " 6   pension               325437 non-null  object\n",
      " 7   extras                42797 non-null   object\n",
      " 8   pais                  324215 non-null  object\n",
      " 9   tipo_organizacion     5740 non-null    object\n",
      " 10  origin                77250 non-null   object\n",
      " 11  mode                  325437 non-null  object\n",
      "dtypes: object(12)\n",
      "memory usage: 32.3+ MB\n"
     ]
    }
   ],
   "source": [
    "# Agafem totes les columnes de tipus object\n",
    "df_clean.select_dtypes(include=['object']).info()\n",
    "# Ara farem una funció que agafi els camps en object, i els hi associi un valor numèric discret\n",
    "def discretització_columna_object(df, columna):\n",
    "    \"\"\"\n",
    "    Aquesta funció pren un DataFrame de pandas i el nom d'una columna com a paràmetres i retorna una nova columna\n",
    "    amb els valors de la columna original discretitzats.\n",
    "\n",
    "    :param df: DataFrame de pandas amb les dades\n",
    "    :param columna: Nom de la columna que es vol discretitzar\n",
    "    :return: Nova columna amb els valors discretitzats\n",
    "    \"\"\"\n",
    "    valors = df[columna].unique()\n",
    "    diccionari = {i/len(valors):valor for i, valor in enumerate(valors)}\n",
    "    return df[columna].apply(lambda x: list(diccionari.keys())[list(diccionari.values()).index(x)])\n",
    "# recorre totes les columnes de tipus object i les discretitza\n",
    "for columna in df_clean.select_dtypes(include=['object']).columns:\n",
    "    df_clean[columna+'_disc'] = discretització_columna_object(df_clean, columna)\n",
    "# Ara farem un drop de les columnes originals\n",
    "df_clean.drop(df_clean.select_dtypes(include=['object']).columns, axis=1, inplace=True)\n"
   ]
  },
  {
   "cell_type": "code",
   "execution_count": 74,
   "metadata": {},
   "outputs": [
    {
     "name": "stdout",
     "output_type": "stream",
     "text": [
      "<class 'pandas.core.frame.DataFrame'>\n",
      "Index: 325437 entries, 0 to 391578\n",
      "Data columns (total 5 columns):\n",
      " #   Column                 Non-Null Count   Dtype\n",
      "---  ------                 --------------   -----\n",
      " 0   promociones            325437 non-null  bool \n",
      " 1   reserva_combinada      325437 non-null  bool \n",
      " 2   codigos_promocionales  325437 non-null  bool \n",
      " 3   fidelizada             325437 non-null  bool \n",
      " 4   cancelada              325437 non-null  bool \n",
      "dtypes: bool(5)\n",
      "memory usage: 4.0 MB\n"
     ]
    }
   ],
   "source": [
    "# Ara fem el mateix per les columnes de tipus bool\n",
    "df_clean.select_dtypes(include=['bool']).info()\n",
    "# recorre totes les columnes de tipus bool i les discretitza\n",
    "# al valor True li assigna 1 i al False li assigna 0\n",
    "for columna in df_clean.select_dtypes(include=['bool']).columns:\n",
    "    df_clean[columna+'_disc'] = df_clean[columna].apply(lambda x: 1 if x else 0)\n",
    "# Ara farem un drop de les columnes originals\n",
    "df_clean.drop(df_clean.select_dtypes(include=['bool']).columns, axis=1, inplace=True)\n"
   ]
  },
  {
   "cell_type": "code",
   "execution_count": 75,
   "metadata": {},
   "outputs": [
    {
     "data": {
      "text/html": [
       "<div>\n",
       "<style scoped>\n",
       "    .dataframe tbody tr th:only-of-type {\n",
       "        vertical-align: middle;\n",
       "    }\n",
       "\n",
       "    .dataframe tbody tr th {\n",
       "        vertical-align: top;\n",
       "    }\n",
       "\n",
       "    .dataframe thead th {\n",
       "        text-align: right;\n",
       "    }\n",
       "</style>\n",
       "<table border=\"1\" class=\"dataframe\">\n",
       "  <thead>\n",
       "    <tr style=\"text-align: right;\">\n",
       "      <th></th>\n",
       "      <th>booking_date</th>\n",
       "      <th>check_in</th>\n",
       "      <th>check_out</th>\n",
       "      <th>unidades_norm</th>\n",
       "      <th>num_adult_norm</th>\n",
       "      <th>num_nens_norm</th>\n",
       "      <th>num_nadons_norm</th>\n",
       "      <th>avg_price_night_disc</th>\n",
       "      <th>antelacion_dias_disc</th>\n",
       "      <th>motor_disc</th>\n",
       "      <th>divisa_disc</th>\n",
       "      <th>tipo_pago_disc</th>\n",
       "      <th>estado_email_cliente_disc</th>\n",
       "      <th>estado_email_hotel_disc</th>\n",
       "      <th>tipo_alojamiento_disc</th>\n",
       "      <th>pension_disc</th>\n",
       "      <th>extras_disc</th>\n",
       "      <th>pais_disc</th>\n",
       "      <th>tipo_organizacion_disc</th>\n",
       "      <th>origin_disc</th>\n",
       "      <th>mode_disc</th>\n",
       "      <th>promociones_disc</th>\n",
       "      <th>reserva_combinada_disc</th>\n",
       "      <th>codigos_promocionales_disc</th>\n",
       "      <th>fidelizada_disc</th>\n",
       "      <th>cancelada_disc</th>\n",
       "    </tr>\n",
       "  </thead>\n",
       "  <tbody>\n",
       "    <tr>\n",
       "      <th>0</th>\n",
       "      <td>2021-12-31 23:45:23</td>\n",
       "      <td>2022-01-12</td>\n",
       "      <td>2022-01-14</td>\n",
       "      <td>0.166667</td>\n",
       "      <td>0.166667</td>\n",
       "      <td>0.0</td>\n",
       "      <td>0.0</td>\n",
       "      <td>0.000000</td>\n",
       "      <td>0.5</td>\n",
       "      <td>0.000000</td>\n",
       "      <td>0.0</td>\n",
       "      <td>0.000000</td>\n",
       "      <td>0.0</td>\n",
       "      <td>0.000000</td>\n",
       "      <td>0.000000</td>\n",
       "      <td>0.000000</td>\n",
       "      <td>0.000000</td>\n",
       "      <td>0.000000</td>\n",
       "      <td>0.0</td>\n",
       "      <td>0.0</td>\n",
       "      <td>0.0</td>\n",
       "      <td>1</td>\n",
       "      <td>0</td>\n",
       "      <td>0</td>\n",
       "      <td>1</td>\n",
       "      <td>0</td>\n",
       "    </tr>\n",
       "    <tr>\n",
       "      <th>1</th>\n",
       "      <td>2021-12-31 23:41:53</td>\n",
       "      <td>2022-09-03</td>\n",
       "      <td>2022-09-04</td>\n",
       "      <td>0.166667</td>\n",
       "      <td>0.166667</td>\n",
       "      <td>0.0</td>\n",
       "      <td>0.0</td>\n",
       "      <td>0.666667</td>\n",
       "      <td>1.0</td>\n",
       "      <td>0.006757</td>\n",
       "      <td>0.0</td>\n",
       "      <td>0.111111</td>\n",
       "      <td>0.0</td>\n",
       "      <td>0.000000</td>\n",
       "      <td>0.002062</td>\n",
       "      <td>0.166667</td>\n",
       "      <td>0.000000</td>\n",
       "      <td>0.000000</td>\n",
       "      <td>0.0</td>\n",
       "      <td>0.0</td>\n",
       "      <td>0.0</td>\n",
       "      <td>1</td>\n",
       "      <td>0</td>\n",
       "      <td>0</td>\n",
       "      <td>0</td>\n",
       "      <td>1</td>\n",
       "    </tr>\n",
       "    <tr>\n",
       "      <th>2</th>\n",
       "      <td>2021-12-31 22:26:53</td>\n",
       "      <td>2022-04-12</td>\n",
       "      <td>2022-04-19</td>\n",
       "      <td>0.166667</td>\n",
       "      <td>0.166667</td>\n",
       "      <td>0.0</td>\n",
       "      <td>0.0</td>\n",
       "      <td>0.666667</td>\n",
       "      <td>1.0</td>\n",
       "      <td>0.013514</td>\n",
       "      <td>0.0</td>\n",
       "      <td>0.111111</td>\n",
       "      <td>0.1</td>\n",
       "      <td>0.000000</td>\n",
       "      <td>0.000000</td>\n",
       "      <td>0.166667</td>\n",
       "      <td>0.000000</td>\n",
       "      <td>0.000000</td>\n",
       "      <td>0.0</td>\n",
       "      <td>0.0</td>\n",
       "      <td>0.0</td>\n",
       "      <td>1</td>\n",
       "      <td>0</td>\n",
       "      <td>0</td>\n",
       "      <td>0</td>\n",
       "      <td>0</td>\n",
       "    </tr>\n",
       "    <tr>\n",
       "      <th>3</th>\n",
       "      <td>2021-12-31 22:17:05</td>\n",
       "      <td>2022-01-12</td>\n",
       "      <td>2022-01-16</td>\n",
       "      <td>0.166667</td>\n",
       "      <td>0.166667</td>\n",
       "      <td>0.0</td>\n",
       "      <td>0.0</td>\n",
       "      <td>1.000000</td>\n",
       "      <td>0.5</td>\n",
       "      <td>0.020270</td>\n",
       "      <td>0.0</td>\n",
       "      <td>0.222222</td>\n",
       "      <td>0.0</td>\n",
       "      <td>0.111111</td>\n",
       "      <td>0.004124</td>\n",
       "      <td>0.000000</td>\n",
       "      <td>0.001326</td>\n",
       "      <td>0.004762</td>\n",
       "      <td>0.0</td>\n",
       "      <td>0.0</td>\n",
       "      <td>0.0</td>\n",
       "      <td>0</td>\n",
       "      <td>0</td>\n",
       "      <td>0</td>\n",
       "      <td>0</td>\n",
       "      <td>0</td>\n",
       "    </tr>\n",
       "    <tr>\n",
       "      <th>4</th>\n",
       "      <td>2021-12-31 22:17:05</td>\n",
       "      <td>2022-01-12</td>\n",
       "      <td>2022-01-16</td>\n",
       "      <td>0.166667</td>\n",
       "      <td>0.166667</td>\n",
       "      <td>0.0</td>\n",
       "      <td>0.0</td>\n",
       "      <td>1.000000</td>\n",
       "      <td>0.5</td>\n",
       "      <td>0.020270</td>\n",
       "      <td>0.0</td>\n",
       "      <td>0.222222</td>\n",
       "      <td>0.1</td>\n",
       "      <td>0.111111</td>\n",
       "      <td>0.004124</td>\n",
       "      <td>0.000000</td>\n",
       "      <td>0.001326</td>\n",
       "      <td>0.004762</td>\n",
       "      <td>0.0</td>\n",
       "      <td>0.0</td>\n",
       "      <td>0.0</td>\n",
       "      <td>0</td>\n",
       "      <td>0</td>\n",
       "      <td>0</td>\n",
       "      <td>0</td>\n",
       "      <td>0</td>\n",
       "    </tr>\n",
       "  </tbody>\n",
       "</table>\n",
       "</div>"
      ],
      "text/plain": [
       "         booking_date   check_in  check_out  unidades_norm  num_adult_norm  num_nens_norm  num_nadons_norm  avg_price_night_disc  antelacion_dias_disc  motor_disc  divisa_disc  tipo_pago_disc  estado_email_cliente_disc  estado_email_hotel_disc  tipo_alojamiento_disc  pension_disc  extras_disc  pais_disc  tipo_organizacion_disc  origin_disc  mode_disc  promociones_disc  reserva_combinada_disc  codigos_promocionales_disc  fidelizada_disc  cancelada_disc\n",
       "0 2021-12-31 23:45:23 2022-01-12 2022-01-14       0.166667        0.166667            0.0              0.0              0.000000                   0.5    0.000000          0.0        0.000000                        0.0                 0.000000               0.000000      0.000000     0.000000   0.000000                     0.0          0.0        0.0                 1                       0                           0                1               0\n",
       "1 2021-12-31 23:41:53 2022-09-03 2022-09-04       0.166667        0.166667            0.0              0.0              0.666667                   1.0    0.006757          0.0        0.111111                        0.0                 0.000000               0.002062      0.166667     0.000000   0.000000                     0.0          0.0        0.0                 1                       0                           0                0               1\n",
       "2 2021-12-31 22:26:53 2022-04-12 2022-04-19       0.166667        0.166667            0.0              0.0              0.666667                   1.0    0.013514          0.0        0.111111                        0.1                 0.000000               0.000000      0.166667     0.000000   0.000000                     0.0          0.0        0.0                 1                       0                           0                0               0\n",
       "3 2021-12-31 22:17:05 2022-01-12 2022-01-16       0.166667        0.166667            0.0              0.0              1.000000                   0.5    0.020270          0.0        0.222222                        0.0                 0.111111               0.004124      0.000000     0.001326   0.004762                     0.0          0.0        0.0                 0                       0                           0                0               0\n",
       "4 2021-12-31 22:17:05 2022-01-12 2022-01-16       0.166667        0.166667            0.0              0.0              1.000000                   0.5    0.020270          0.0        0.222222                        0.1                 0.111111               0.004124      0.000000     0.001326   0.004762                     0.0          0.0        0.0                 0                       0                           0                0               0"
      ]
     },
     "execution_count": 75,
     "metadata": {},
     "output_type": "execute_result"
    }
   ],
   "source": [
    "df_clean.head()"
   ]
  },
  {
   "cell_type": "markdown",
   "metadata": {},
   "source": [
    "#### SVD\n",
    "Ara farem el procés de descomposició, SVD"
   ]
  },
  {
   "cell_type": "markdown",
   "metadata": {},
   "source": [
    "Per a poder dur a terme aquest procés cal que totes les dades tinguin valors del tipus numèric, per això hem de convertir les columnes que tenen valors de tipus datetime o enters en números reals. El datetime el passarem al format ISO que ens dona el nombre de nanosegons transcorreguts des de l'1 de gener de 1970, a més normalitzarem les dades per a que estiguin entre 0 i 1."
   ]
  },
  {
   "cell_type": "code",
   "execution_count": 76,
   "metadata": {},
   "outputs": [],
   "source": [
    "# Comencem a preparar les dades, canviem els datetime a int\n",
    "df_clean.booking_date = df_clean.booking_date.astype('int64')\n",
    "df_clean.check_in = df_clean.check_in.astype('int64')\n",
    "df_clean.check_out = df_clean.check_out.astype('int64')\n",
    "# Ara normalitzem aquestes mateixes columnes entre 0 i 1\n",
    "df_clean.booking_date = df_clean.booking_date / df_clean.booking_date.max()\n",
    "df_clean.check_in = df_clean.check_in / df_clean.check_in.max()\n",
    "df_clean.check_out = df_clean.check_out / df_clean.check_out.max()\n",
    "\n",
    "# Ara tots els camps enters els passem a float menys cancelada_disc\n",
    "df_clean[df_clean.select_dtypes(include=['int64', 'int32']).columns] = df_clean[df_clean.select_dtypes(include=['int64', 'int32']).columns].astype('float64')\n",
    "\n",
    "df_clean.cancelada_disc = df_clean.cancelada_disc.astype('bool')"
   ]
  },
  {
   "cell_type": "code",
   "execution_count": 77,
   "metadata": {},
   "outputs": [],
   "source": [
    "from sklearn.decomposition import TruncatedSVD\n",
    "\n",
    "# El primer que farem serà posar a part la columna cancelada_disc\n",
    "y = df_clean.cancelada_disc\n",
    "# Ara fem un drop de la columna cancelada_disc\n",
    "df_nocancel = df_clean.drop('cancelada_disc', axis=1)\n",
    "svd = TruncatedSVD(n_components=12)  \n",
    "svd.fit(df_nocancel)  # apliquem SVD\n",
    "ve_12 = svd.explained_variance_ratio_.sum()  # Obtenim la variància explicada amb 12 components\n",
    "transformed_df = svd.transform(df_nocancel)  # Obtenim les dades transformades\n",
    "# Ara en un dataframe\n",
    "transformed_df = pd.DataFrame(transformed_df)\n",
    "# Ara afegim la columna cancelada_disc\n",
    "transformed_df['cancelada_disc'] = y"
   ]
  },
  {
   "cell_type": "code",
   "execution_count": 80,
   "metadata": {},
   "outputs": [
    {
     "data": {
      "text/html": [
       "<div>\n",
       "<style scoped>\n",
       "    .dataframe tbody tr th:only-of-type {\n",
       "        vertical-align: middle;\n",
       "    }\n",
       "\n",
       "    .dataframe tbody tr th {\n",
       "        vertical-align: top;\n",
       "    }\n",
       "\n",
       "    .dataframe thead th {\n",
       "        text-align: right;\n",
       "    }\n",
       "</style>\n",
       "<table border=\"1\" class=\"dataframe\">\n",
       "  <thead>\n",
       "    <tr style=\"text-align: right;\">\n",
       "      <th></th>\n",
       "      <th>0</th>\n",
       "      <th>1</th>\n",
       "      <th>2</th>\n",
       "      <th>3</th>\n",
       "      <th>4</th>\n",
       "      <th>5</th>\n",
       "      <th>6</th>\n",
       "      <th>7</th>\n",
       "      <th>8</th>\n",
       "      <th>9</th>\n",
       "      <th>10</th>\n",
       "      <th>11</th>\n",
       "      <th>cancelada_disc</th>\n",
       "    </tr>\n",
       "  </thead>\n",
       "  <tbody>\n",
       "    <tr>\n",
       "      <th>0</th>\n",
       "      <td>2.031680</td>\n",
       "      <td>0.368316</td>\n",
       "      <td>0.052780</td>\n",
       "      <td>-0.557792</td>\n",
       "      <td>-0.340067</td>\n",
       "      <td>0.606142</td>\n",
       "      <td>-0.016086</td>\n",
       "      <td>0.015989</td>\n",
       "      <td>-0.093848</td>\n",
       "      <td>-0.037153</td>\n",
       "      <td>-0.001118</td>\n",
       "      <td>-0.003071</td>\n",
       "      <td>False</td>\n",
       "    </tr>\n",
       "    <tr>\n",
       "      <th>1</th>\n",
       "      <td>2.174424</td>\n",
       "      <td>-0.460320</td>\n",
       "      <td>-0.361161</td>\n",
       "      <td>-0.286377</td>\n",
       "      <td>-0.340767</td>\n",
       "      <td>-0.239530</td>\n",
       "      <td>-0.147484</td>\n",
       "      <td>0.026288</td>\n",
       "      <td>-0.139202</td>\n",
       "      <td>-0.050404</td>\n",
       "      <td>-0.016367</td>\n",
       "      <td>-0.053330</td>\n",
       "      <td>True</td>\n",
       "    </tr>\n",
       "    <tr>\n",
       "      <th>2</th>\n",
       "      <td>2.172629</td>\n",
       "      <td>-0.459866</td>\n",
       "      <td>-0.361225</td>\n",
       "      <td>-0.284274</td>\n",
       "      <td>-0.337401</td>\n",
       "      <td>-0.238672</td>\n",
       "      <td>-0.162614</td>\n",
       "      <td>-0.001256</td>\n",
       "      <td>-0.054714</td>\n",
       "      <td>-0.056356</td>\n",
       "      <td>-0.047366</td>\n",
       "      <td>-0.083573</td>\n",
       "      <td>False</td>\n",
       "    </tr>\n",
       "    <tr>\n",
       "      <th>3</th>\n",
       "      <td>1.731913</td>\n",
       "      <td>-0.586360</td>\n",
       "      <td>-0.531569</td>\n",
       "      <td>0.053000</td>\n",
       "      <td>0.598717</td>\n",
       "      <td>0.055946</td>\n",
       "      <td>-0.352537</td>\n",
       "      <td>0.030912</td>\n",
       "      <td>-0.183676</td>\n",
       "      <td>-0.059567</td>\n",
       "      <td>0.023905</td>\n",
       "      <td>0.049716</td>\n",
       "      <td>False</td>\n",
       "    </tr>\n",
       "    <tr>\n",
       "      <th>4</th>\n",
       "      <td>1.735804</td>\n",
       "      <td>-0.586971</td>\n",
       "      <td>-0.531449</td>\n",
       "      <td>0.053221</td>\n",
       "      <td>0.603311</td>\n",
       "      <td>0.058584</td>\n",
       "      <td>-0.373468</td>\n",
       "      <td>0.003780</td>\n",
       "      <td>-0.101221</td>\n",
       "      <td>-0.066821</td>\n",
       "      <td>-0.004949</td>\n",
       "      <td>0.018081</td>\n",
       "      <td>False</td>\n",
       "    </tr>\n",
       "  </tbody>\n",
       "</table>\n",
       "</div>"
      ],
      "text/plain": [
       "          0         1         2         3         4         5         6         7         8         9        10        11 cancelada_disc\n",
       "0  2.031680  0.368316  0.052780 -0.557792 -0.340067  0.606142 -0.016086  0.015989 -0.093848 -0.037153 -0.001118 -0.003071          False\n",
       "1  2.174424 -0.460320 -0.361161 -0.286377 -0.340767 -0.239530 -0.147484  0.026288 -0.139202 -0.050404 -0.016367 -0.053330           True\n",
       "2  2.172629 -0.459866 -0.361225 -0.284274 -0.337401 -0.238672 -0.162614 -0.001256 -0.054714 -0.056356 -0.047366 -0.083573          False\n",
       "3  1.731913 -0.586360 -0.531569  0.053000  0.598717  0.055946 -0.352537  0.030912 -0.183676 -0.059567  0.023905  0.049716          False\n",
       "4  1.735804 -0.586971 -0.531449  0.053221  0.603311  0.058584 -0.373468  0.003780 -0.101221 -0.066821 -0.004949  0.018081          False"
      ]
     },
     "execution_count": 80,
     "metadata": {},
     "output_type": "execute_result"
    }
   ],
   "source": [
    "transformed_df.head()"
   ]
  },
  {
   "cell_type": "code",
   "execution_count": 81,
   "metadata": {},
   "outputs": [],
   "source": [
    "df_nocancel = df_clean.drop('cancelada_disc', axis=1)\n",
    "svd_25 = TruncatedSVD(n_components=df_nocancel.shape[1])  \n",
    "svd_25.fit(df_nocancel)  # apliquem SVD\n",
    "ve_25 = svd_25.explained_variance_ratio_.sum()\n"
   ]
  },
  {
   "cell_type": "code",
   "execution_count": 82,
   "metadata": {},
   "outputs": [
    {
     "data": {
      "image/png": "[encoded data removed]",
      "text/plain": [
       "<Figure size 640x480 with 1 Axes>"
      ]
     },
     "metadata": {},
     "output_type": "display_data"
    }
   ],
   "source": [
    "# Ara farem un plot de la variància explicada en funció del nombre de components\n",
    "# Agafarem els valors de 1 a 25\n",
    "variance_explained = []\n",
    "for i in range(1, 26):\n",
    "    svd = TruncatedSVD(n_components=i)\n",
    "    svd.fit(df_nocancel)\n",
    "    variance_explained.append(svd.explained_variance_ratio_.sum())\n",
    "# I ara farem el plot\n",
    "plt.plot(range(1, 26), variance_explained)\n",
    "plt.xlabel('Nombre de components')\n",
    "plt.ylabel('Variància explicada')\n",
    "# plt.savefig('IMG/Variancia_explicada.jpg')\n",
    "# Fem una linia en el valor de 0.95\n",
    "plt.axhline(y=0.95, color='r', linestyle='-')\n",
    "plt.show()"
   ]
  },
  {
   "cell_type": "code",
   "execution_count": 84,
   "metadata": {},
   "outputs": [
    {
     "data": {
      "text/html": [
       "<div>\n",
       "<style scoped>\n",
       "    .dataframe tbody tr th:only-of-type {\n",
       "        vertical-align: middle;\n",
       "    }\n",
       "\n",
       "    .dataframe tbody tr th {\n",
       "        vertical-align: top;\n",
       "    }\n",
       "\n",
       "    .dataframe thead th {\n",
       "        text-align: right;\n",
       "    }\n",
       "</style>\n",
       "<table border=\"1\" class=\"dataframe\">\n",
       "  <thead>\n",
       "    <tr style=\"text-align: right;\">\n",
       "      <th></th>\n",
       "      <th>booking_date</th>\n",
       "      <th>check_in</th>\n",
       "      <th>check_out</th>\n",
       "      <th>unidades_norm</th>\n",
       "      <th>num_adult_norm</th>\n",
       "      <th>num_nens_norm</th>\n",
       "      <th>num_nadons_norm</th>\n",
       "      <th>avg_price_night_disc</th>\n",
       "      <th>antelacion_dias_disc</th>\n",
       "      <th>motor_disc</th>\n",
       "      <th>divisa_disc</th>\n",
       "      <th>tipo_pago_disc</th>\n",
       "      <th>estado_email_cliente_disc</th>\n",
       "      <th>estado_email_hotel_disc</th>\n",
       "      <th>tipo_alojamiento_disc</th>\n",
       "      <th>pension_disc</th>\n",
       "      <th>extras_disc</th>\n",
       "      <th>pais_disc</th>\n",
       "      <th>tipo_organizacion_disc</th>\n",
       "      <th>origin_disc</th>\n",
       "      <th>mode_disc</th>\n",
       "      <th>promociones_disc</th>\n",
       "      <th>reserva_combinada_disc</th>\n",
       "      <th>codigos_promocionales_disc</th>\n",
       "      <th>fidelizada_disc</th>\n",
       "      <th>cancelada_disc</th>\n",
       "    </tr>\n",
       "  </thead>\n",
       "  <tbody>\n",
       "    <tr>\n",
       "      <th>0</th>\n",
       "      <td>0.965976</td>\n",
       "      <td>0.966584</td>\n",
       "      <td>0.965654</td>\n",
       "      <td>0.166667</td>\n",
       "      <td>0.166667</td>\n",
       "      <td>0.0</td>\n",
       "      <td>0.0</td>\n",
       "      <td>0.000000</td>\n",
       "      <td>0.5</td>\n",
       "      <td>0.000000</td>\n",
       "      <td>0.0</td>\n",
       "      <td>0.000000</td>\n",
       "      <td>0.0</td>\n",
       "      <td>0.000000</td>\n",
       "      <td>0.000000</td>\n",
       "      <td>0.000000</td>\n",
       "      <td>0.000000</td>\n",
       "      <td>0.000000</td>\n",
       "      <td>0.0</td>\n",
       "      <td>0.0</td>\n",
       "      <td>0.0</td>\n",
       "      <td>1.0</td>\n",
       "      <td>0.0</td>\n",
       "      <td>0.0</td>\n",
       "      <td>1.0</td>\n",
       "      <td>False</td>\n",
       "    </tr>\n",
       "    <tr>\n",
       "      <th>1</th>\n",
       "      <td>0.965976</td>\n",
       "      <td>0.978485</td>\n",
       "      <td>0.977492</td>\n",
       "      <td>0.166667</td>\n",
       "      <td>0.166667</td>\n",
       "      <td>0.0</td>\n",
       "      <td>0.0</td>\n",
       "      <td>0.666667</td>\n",
       "      <td>1.0</td>\n",
       "      <td>0.006757</td>\n",
       "      <td>0.0</td>\n",
       "      <td>0.111111</td>\n",
       "      <td>0.0</td>\n",
       "      <td>0.000000</td>\n",
       "      <td>0.002062</td>\n",
       "      <td>0.166667</td>\n",
       "      <td>0.000000</td>\n",
       "      <td>0.000000</td>\n",
       "      <td>0.0</td>\n",
       "      <td>0.0</td>\n",
       "      <td>0.0</td>\n",
       "      <td>1.0</td>\n",
       "      <td>0.0</td>\n",
       "      <td>0.0</td>\n",
       "      <td>0.0</td>\n",
       "      <td>True</td>\n",
       "    </tr>\n",
       "    <tr>\n",
       "      <th>2</th>\n",
       "      <td>0.965973</td>\n",
       "      <td>0.971161</td>\n",
       "      <td>0.970481</td>\n",
       "      <td>0.166667</td>\n",
       "      <td>0.166667</td>\n",
       "      <td>0.0</td>\n",
       "      <td>0.0</td>\n",
       "      <td>0.666667</td>\n",
       "      <td>1.0</td>\n",
       "      <td>0.013514</td>\n",
       "      <td>0.0</td>\n",
       "      <td>0.111111</td>\n",
       "      <td>0.1</td>\n",
       "      <td>0.000000</td>\n",
       "      <td>0.000000</td>\n",
       "      <td>0.166667</td>\n",
       "      <td>0.000000</td>\n",
       "      <td>0.000000</td>\n",
       "      <td>0.0</td>\n",
       "      <td>0.0</td>\n",
       "      <td>0.0</td>\n",
       "      <td>1.0</td>\n",
       "      <td>0.0</td>\n",
       "      <td>0.0</td>\n",
       "      <td>0.0</td>\n",
       "      <td>False</td>\n",
       "    </tr>\n",
       "    <tr>\n",
       "      <th>3</th>\n",
       "      <td>0.965973</td>\n",
       "      <td>0.966584</td>\n",
       "      <td>0.965756</td>\n",
       "      <td>0.166667</td>\n",
       "      <td>0.166667</td>\n",
       "      <td>0.0</td>\n",
       "      <td>0.0</td>\n",
       "      <td>1.000000</td>\n",
       "      <td>0.5</td>\n",
       "      <td>0.020270</td>\n",
       "      <td>0.0</td>\n",
       "      <td>0.222222</td>\n",
       "      <td>0.0</td>\n",
       "      <td>0.111111</td>\n",
       "      <td>0.004124</td>\n",
       "      <td>0.000000</td>\n",
       "      <td>0.001326</td>\n",
       "      <td>0.004762</td>\n",
       "      <td>0.0</td>\n",
       "      <td>0.0</td>\n",
       "      <td>0.0</td>\n",
       "      <td>0.0</td>\n",
       "      <td>0.0</td>\n",
       "      <td>0.0</td>\n",
       "      <td>0.0</td>\n",
       "      <td>False</td>\n",
       "    </tr>\n",
       "    <tr>\n",
       "      <th>4</th>\n",
       "      <td>0.965973</td>\n",
       "      <td>0.966584</td>\n",
       "      <td>0.965756</td>\n",
       "      <td>0.166667</td>\n",
       "      <td>0.166667</td>\n",
       "      <td>0.0</td>\n",
       "      <td>0.0</td>\n",
       "      <td>1.000000</td>\n",
       "      <td>0.5</td>\n",
       "      <td>0.020270</td>\n",
       "      <td>0.0</td>\n",
       "      <td>0.222222</td>\n",
       "      <td>0.1</td>\n",
       "      <td>0.111111</td>\n",
       "      <td>0.004124</td>\n",
       "      <td>0.000000</td>\n",
       "      <td>0.001326</td>\n",
       "      <td>0.004762</td>\n",
       "      <td>0.0</td>\n",
       "      <td>0.0</td>\n",
       "      <td>0.0</td>\n",
       "      <td>0.0</td>\n",
       "      <td>0.0</td>\n",
       "      <td>0.0</td>\n",
       "      <td>0.0</td>\n",
       "      <td>False</td>\n",
       "    </tr>\n",
       "  </tbody>\n",
       "</table>\n",
       "</div>"
      ],
      "text/plain": [
       "   booking_date  check_in  check_out  unidades_norm  num_adult_norm  num_nens_norm  num_nadons_norm  avg_price_night_disc  antelacion_dias_disc  motor_disc  divisa_disc  tipo_pago_disc  estado_email_cliente_disc  estado_email_hotel_disc  tipo_alojamiento_disc  pension_disc  extras_disc  pais_disc  tipo_organizacion_disc  origin_disc  mode_disc  promociones_disc  reserva_combinada_disc  codigos_promocionales_disc  fidelizada_disc  cancelada_disc\n",
       "0      0.965976  0.966584   0.965654       0.166667        0.166667            0.0              0.0              0.000000                   0.5    0.000000          0.0        0.000000                        0.0                 0.000000               0.000000      0.000000     0.000000   0.000000                     0.0          0.0        0.0               1.0                     0.0                         0.0              1.0           False\n",
       "1      0.965976  0.978485   0.977492       0.166667        0.166667            0.0              0.0              0.666667                   1.0    0.006757          0.0        0.111111                        0.0                 0.000000               0.002062      0.166667     0.000000   0.000000                     0.0          0.0        0.0               1.0                     0.0                         0.0              0.0            True\n",
       "2      0.965973  0.971161   0.970481       0.166667        0.166667            0.0              0.0              0.666667                   1.0    0.013514          0.0        0.111111                        0.1                 0.000000               0.000000      0.166667     0.000000   0.000000                     0.0          0.0        0.0               1.0                     0.0                         0.0              0.0           False\n",
       "3      0.965973  0.966584   0.965756       0.166667        0.166667            0.0              0.0              1.000000                   0.5    0.020270          0.0        0.222222                        0.0                 0.111111               0.004124      0.000000     0.001326   0.004762                     0.0          0.0        0.0               0.0                     0.0                         0.0              0.0           False\n",
       "4      0.965973  0.966584   0.965756       0.166667        0.166667            0.0              0.0              1.000000                   0.5    0.020270          0.0        0.222222                        0.1                 0.111111               0.004124      0.000000     0.001326   0.004762                     0.0          0.0        0.0               0.0                     0.0                         0.0              0.0           False"
      ]
     },
     "execution_count": 84,
     "metadata": {},
     "output_type": "execute_result"
    }
   ],
   "source": [
    "df_clean.head()"
   ]
  },
  {
   "cell_type": "code",
   "execution_count": 87,
   "metadata": {},
   "outputs": [
    {
     "data": {
      "text/html": [
       "<div>\n",
       "<style scoped>\n",
       "    .dataframe tbody tr th:only-of-type {\n",
       "        vertical-align: middle;\n",
       "    }\n",
       "\n",
       "    .dataframe tbody tr th {\n",
       "        vertical-align: top;\n",
       "    }\n",
       "\n",
       "    .dataframe thead th {\n",
       "        text-align: right;\n",
       "    }\n",
       "</style>\n",
       "<table border=\"1\" class=\"dataframe\">\n",
       "  <thead>\n",
       "    <tr style=\"text-align: right;\">\n",
       "      <th></th>\n",
       "      <th>booking_date</th>\n",
       "      <th>check_in</th>\n",
       "      <th>check_out</th>\n",
       "      <th>unidades_norm</th>\n",
       "      <th>num_adult_norm</th>\n",
       "      <th>num_nens_norm</th>\n",
       "      <th>num_nadons_norm</th>\n",
       "      <th>avg_price_night_disc</th>\n",
       "      <th>antelacion_dias_disc</th>\n",
       "      <th>motor_disc</th>\n",
       "      <th>divisa_disc</th>\n",
       "      <th>tipo_pago_disc</th>\n",
       "      <th>estado_email_cliente_disc</th>\n",
       "      <th>estado_email_hotel_disc</th>\n",
       "      <th>tipo_alojamiento_disc</th>\n",
       "      <th>pension_disc</th>\n",
       "      <th>extras_disc</th>\n",
       "      <th>pais_disc</th>\n",
       "      <th>tipo_organizacion_disc</th>\n",
       "      <th>origin_disc</th>\n",
       "      <th>mode_disc</th>\n",
       "      <th>promociones_disc</th>\n",
       "      <th>reserva_combinada_disc</th>\n",
       "      <th>codigos_promocionales_disc</th>\n",
       "      <th>fidelizada_disc</th>\n",
       "    </tr>\n",
       "  </thead>\n",
       "  <tbody>\n",
       "    <tr>\n",
       "      <th>count</th>\n",
       "      <td>325437.000000</td>\n",
       "      <td>325437.000000</td>\n",
       "      <td>325437.000000</td>\n",
       "      <td>325437.000000</td>\n",
       "      <td>325437.000000</td>\n",
       "      <td>325437.000000</td>\n",
       "      <td>325437.000000</td>\n",
       "      <td>325437.000000</td>\n",
       "      <td>325437.000000</td>\n",
       "      <td>325437.000000</td>\n",
       "      <td>325437.0</td>\n",
       "      <td>325437.000000</td>\n",
       "      <td>325437.000000</td>\n",
       "      <td>325437.000000</td>\n",
       "      <td>325437.000000</td>\n",
       "      <td>325437.000000</td>\n",
       "      <td>325437.000000</td>\n",
       "      <td>325437.000000</td>\n",
       "      <td>325437.000000</td>\n",
       "      <td>325437.000000</td>\n",
       "      <td>325437.000000</td>\n",
       "      <td>325437.000000</td>\n",
       "      <td>325437.000000</td>\n",
       "      <td>325437.000000</td>\n",
       "      <td>325437.000000</td>\n",
       "    </tr>\n",
       "    <tr>\n",
       "      <th>mean</th>\n",
       "      <td>0.981333</td>\n",
       "      <td>0.983353</td>\n",
       "      <td>0.982428</td>\n",
       "      <td>0.167171</td>\n",
       "      <td>0.165818</td>\n",
       "      <td>0.015612</td>\n",
       "      <td>0.000785</td>\n",
       "      <td>0.500061</td>\n",
       "      <td>0.561387</td>\n",
       "      <td>0.301235</td>\n",
       "      <td>0.0</td>\n",
       "      <td>0.204339</td>\n",
       "      <td>0.086067</td>\n",
       "      <td>0.060662</td>\n",
       "      <td>0.150256</td>\n",
       "      <td>0.090973</td>\n",
       "      <td>0.025982</td>\n",
       "      <td>0.045261</td>\n",
       "      <td>0.007073</td>\n",
       "      <td>0.061170</td>\n",
       "      <td>0.000032</td>\n",
       "      <td>0.806380</td>\n",
       "      <td>0.023024</td>\n",
       "      <td>0.346141</td>\n",
       "      <td>0.354597</td>\n",
       "    </tr>\n",
       "    <tr>\n",
       "      <th>std</th>\n",
       "      <td>0.011533</td>\n",
       "      <td>0.011758</td>\n",
       "      <td>0.011747</td>\n",
       "      <td>0.011679</td>\n",
       "      <td>0.058885</td>\n",
       "      <td>0.055166</td>\n",
       "      <td>0.020633</td>\n",
       "      <td>0.372698</td>\n",
       "      <td>0.410637</td>\n",
       "      <td>0.252273</td>\n",
       "      <td>0.0</td>\n",
       "      <td>0.102217</td>\n",
       "      <td>0.142803</td>\n",
       "      <td>0.110260</td>\n",
       "      <td>0.209892</td>\n",
       "      <td>0.087092</td>\n",
       "      <td>0.098444</td>\n",
       "      <td>0.085093</td>\n",
       "      <td>0.055229</td>\n",
       "      <td>0.128374</td>\n",
       "      <td>0.004411</td>\n",
       "      <td>0.395135</td>\n",
       "      <td>0.149981</td>\n",
       "      <td>0.475739</td>\n",
       "      <td>0.478392</td>\n",
       "    </tr>\n",
       "    <tr>\n",
       "      <th>min</th>\n",
       "      <td>0.947434</td>\n",
       "      <td>0.947459</td>\n",
       "      <td>0.946499</td>\n",
       "      <td>0.166667</td>\n",
       "      <td>0.083333</td>\n",
       "      <td>0.000000</td>\n",
       "      <td>0.000000</td>\n",
       "      <td>0.000000</td>\n",
       "      <td>0.000000</td>\n",
       "      <td>0.000000</td>\n",
       "      <td>0.0</td>\n",
       "      <td>0.000000</td>\n",
       "      <td>0.000000</td>\n",
       "      <td>0.000000</td>\n",
       "      <td>0.000000</td>\n",
       "      <td>0.000000</td>\n",
       "      <td>0.000000</td>\n",
       "      <td>0.000000</td>\n",
       "      <td>0.000000</td>\n",
       "      <td>0.000000</td>\n",
       "      <td>0.000000</td>\n",
       "      <td>0.000000</td>\n",
       "      <td>0.000000</td>\n",
       "      <td>0.000000</td>\n",
       "      <td>0.000000</td>\n",
       "    </tr>\n",
       "    <tr>\n",
       "      <th>25%</th>\n",
       "      <td>0.973600</td>\n",
       "      <td>0.975586</td>\n",
       "      <td>0.974647</td>\n",
       "      <td>0.166667</td>\n",
       "      <td>0.166667</td>\n",
       "      <td>0.000000</td>\n",
       "      <td>0.000000</td>\n",
       "      <td>0.333333</td>\n",
       "      <td>0.000000</td>\n",
       "      <td>0.081081</td>\n",
       "      <td>0.0</td>\n",
       "      <td>0.111111</td>\n",
       "      <td>0.000000</td>\n",
       "      <td>0.000000</td>\n",
       "      <td>0.000000</td>\n",
       "      <td>0.000000</td>\n",
       "      <td>0.000000</td>\n",
       "      <td>0.014286</td>\n",
       "      <td>0.000000</td>\n",
       "      <td>0.000000</td>\n",
       "      <td>0.000000</td>\n",
       "      <td>1.000000</td>\n",
       "      <td>0.000000</td>\n",
       "      <td>0.000000</td>\n",
       "      <td>0.000000</td>\n",
       "    </tr>\n",
       "    <tr>\n",
       "      <th>50%</th>\n",
       "      <td>0.982912</td>\n",
       "      <td>0.985199</td>\n",
       "      <td>0.984250</td>\n",
       "      <td>0.166667</td>\n",
       "      <td>0.166667</td>\n",
       "      <td>0.000000</td>\n",
       "      <td>0.000000</td>\n",
       "      <td>0.666667</td>\n",
       "      <td>0.500000</td>\n",
       "      <td>0.216216</td>\n",
       "      <td>0.0</td>\n",
       "      <td>0.222222</td>\n",
       "      <td>0.000000</td>\n",
       "      <td>0.000000</td>\n",
       "      <td>0.028866</td>\n",
       "      <td>0.166667</td>\n",
       "      <td>0.000000</td>\n",
       "      <td>0.014286</td>\n",
       "      <td>0.000000</td>\n",
       "      <td>0.000000</td>\n",
       "      <td>0.000000</td>\n",
       "      <td>1.000000</td>\n",
       "      <td>0.000000</td>\n",
       "      <td>0.000000</td>\n",
       "      <td>0.000000</td>\n",
       "    </tr>\n",
       "    <tr>\n",
       "      <th>75%</th>\n",
       "      <td>0.990484</td>\n",
       "      <td>0.993235</td>\n",
       "      <td>0.992328</td>\n",
       "      <td>0.166667</td>\n",
       "      <td>0.166667</td>\n",
       "      <td>0.000000</td>\n",
       "      <td>0.000000</td>\n",
       "      <td>1.000000</td>\n",
       "      <td>1.000000</td>\n",
       "      <td>0.554054</td>\n",
       "      <td>0.0</td>\n",
       "      <td>0.222222</td>\n",
       "      <td>0.100000</td>\n",
       "      <td>0.111111</td>\n",
       "      <td>0.430928</td>\n",
       "      <td>0.166667</td>\n",
       "      <td>0.000000</td>\n",
       "      <td>0.033333</td>\n",
       "      <td>0.000000</td>\n",
       "      <td>0.000000</td>\n",
       "      <td>0.000000</td>\n",
       "      <td>1.000000</td>\n",
       "      <td>0.000000</td>\n",
       "      <td>1.000000</td>\n",
       "      <td>1.000000</td>\n",
       "    </tr>\n",
       "    <tr>\n",
       "      <th>max</th>\n",
       "      <td>1.000000</td>\n",
       "      <td>1.000000</td>\n",
       "      <td>1.000000</td>\n",
       "      <td>1.000000</td>\n",
       "      <td>1.000000</td>\n",
       "      <td>1.000000</td>\n",
       "      <td>1.000000</td>\n",
       "      <td>1.000000</td>\n",
       "      <td>1.000000</td>\n",
       "      <td>0.993243</td>\n",
       "      <td>0.0</td>\n",
       "      <td>0.888889</td>\n",
       "      <td>0.900000</td>\n",
       "      <td>0.888889</td>\n",
       "      <td>0.997938</td>\n",
       "      <td>0.833333</td>\n",
       "      <td>0.998674</td>\n",
       "      <td>0.995238</td>\n",
       "      <td>0.750000</td>\n",
       "      <td>0.909091</td>\n",
       "      <td>0.666667</td>\n",
       "      <td>1.000000</td>\n",
       "      <td>1.000000</td>\n",
       "      <td>1.000000</td>\n",
       "      <td>1.000000</td>\n",
       "    </tr>\n",
       "  </tbody>\n",
       "</table>\n",
       "</div>"
      ],
      "text/plain": [
       "        booking_date       check_in      check_out  unidades_norm  num_adult_norm  num_nens_norm  num_nadons_norm  avg_price_night_disc  antelacion_dias_disc     motor_disc  divisa_disc  tipo_pago_disc  estado_email_cliente_disc  estado_email_hotel_disc  tipo_alojamiento_disc   pension_disc    extras_disc      pais_disc  tipo_organizacion_disc    origin_disc      mode_disc  promociones_disc  reserva_combinada_disc  codigos_promocionales_disc  fidelizada_disc\n",
       "count  325437.000000  325437.000000  325437.000000  325437.000000   325437.000000  325437.000000    325437.000000         325437.000000         325437.000000  325437.000000     325437.0   325437.000000              325437.000000            325437.000000          325437.000000  325437.000000  325437.000000  325437.000000           325437.000000  325437.000000  325437.000000     325437.000000           325437.000000               325437.000000    325437.000000\n",
       "mean        0.981333       0.983353       0.982428       0.167171        0.165818       0.015612         0.000785              0.500061              0.561387       0.301235          0.0        0.204339                   0.086067                 0.060662               0.150256       0.090973       0.025982       0.045261                0.007073       0.061170       0.000032          0.806380                0.023024                    0.346141         0.354597\n",
       "std         0.011533       0.011758       0.011747       0.011679        0.058885       0.055166         0.020633              0.372698              0.410637       0.252273          0.0        0.102217                   0.142803                 0.110260               0.209892       0.087092       0.098444       0.085093                0.055229       0.128374       0.004411          0.395135                0.149981                    0.475739         0.478392\n",
       "min         0.947434       0.947459       0.946499       0.166667        0.083333       0.000000         0.000000              0.000000              0.000000       0.000000          0.0        0.000000                   0.000000                 0.000000               0.000000       0.000000       0.000000       0.000000                0.000000       0.000000       0.000000          0.000000                0.000000                    0.000000         0.000000\n",
       "25%         0.973600       0.975586       0.974647       0.166667        0.166667       0.000000         0.000000              0.333333              0.000000       0.081081          0.0        0.111111                   0.000000                 0.000000               0.000000       0.000000       0.000000       0.014286                0.000000       0.000000       0.000000          1.000000                0.000000                    0.000000         0.000000\n",
       "50%         0.982912       0.985199       0.984250       0.166667        0.166667       0.000000         0.000000              0.666667              0.500000       0.216216          0.0        0.222222                   0.000000                 0.000000               0.028866       0.166667       0.000000       0.014286                0.000000       0.000000       0.000000          1.000000                0.000000                    0.000000         0.000000\n",
       "75%         0.990484       0.993235       0.992328       0.166667        0.166667       0.000000         0.000000              1.000000              1.000000       0.554054          0.0        0.222222                   0.100000                 0.111111               0.430928       0.166667       0.000000       0.033333                0.000000       0.000000       0.000000          1.000000                0.000000                    1.000000         1.000000\n",
       "max         1.000000       1.000000       1.000000       1.000000        1.000000       1.000000         1.000000              1.000000              1.000000       0.993243          0.0        0.888889                   0.900000                 0.888889               0.997938       0.833333       0.998674       0.995238                0.750000       0.909091       0.666667          1.000000                1.000000                    1.000000         1.000000"
      ]
     },
     "execution_count": 87,
     "metadata": {},
     "output_type": "execute_result"
    }
   ],
   "source": [
    "df_clean.describe()"
   ]
  },
  {
   "cell_type": "code",
   "execution_count": 88,
   "metadata": {},
   "outputs": [],
   "source": [
    "# Guardem el dataframe netejat en un csv\n",
    "df_clean.to_csv('Data/practica1_result.csv', index=False)"
   ]
  },
  {
   "cell_type": "code",
   "execution_count": null,
   "metadata": {},
   "outputs": [],
   "source": []
  }
 ],
 "metadata": {
  "kernelspec": {
   "display_name": "UOC",
   "language": "python",
   "name": "python3"
  },
  "language_info": {
   "codemirror_mode": {
    "name": "ipython",
    "version": 3
   },
   "file_extension": ".py",
   "mimetype": "text/x-python",
   "name": "python",
   "nbconvert_exporter": "python",
   "pygments_lexer": "ipython3",
   "version": "3.11.2"
  }
 },
 "nbformat": 4,
 "nbformat_minor": 2
}
